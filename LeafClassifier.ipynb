{
 "cells": [
  {
   "cell_type": "markdown",
   "id": "crazy-living",
   "metadata": {},
   "source": [
    "The main goal of this documentation is to design a classifier that classifies leafs in accordance to their properties. To this end, I will practice:\n",
    "   - Looking at the form of data\n",
    "   - Removing features that are highly correlated to others\n",
    "   - Data Cleaning (treating skewness, and normalizing data)\n",
    "   - Using Knn as a baseline classifier\n",
    "   - Using support vector machine to improve performance\n",
    "   - analysing algorithm performance using:\n",
    "   "
   ]
  },
  {
   "cell_type": "code",
   "execution_count": 1,
   "id": "toxic-annotation",
   "metadata": {},
   "outputs": [],
   "source": [
    "import pandas as pd\n",
    "data = pd.read_csv('Dataset_feuilles_1.csv')"
   ]
  },
  {
   "cell_type": "markdown",
   "id": "broadband-cookbook",
   "metadata": {},
   "source": [
    "Let's first take a look at the data"
   ]
  },
  {
   "cell_type": "code",
   "execution_count": 2,
   "id": "awful-oakland",
   "metadata": {
    "scrolled": true
   },
   "outputs": [
    {
     "data": {
      "text/html": [
       "<div>\n",
       "<style scoped>\n",
       "    .dataframe tbody tr th:only-of-type {\n",
       "        vertical-align: middle;\n",
       "    }\n",
       "\n",
       "    .dataframe tbody tr th {\n",
       "        vertical-align: top;\n",
       "    }\n",
       "\n",
       "    .dataframe thead th {\n",
       "        text-align: right;\n",
       "    }\n",
       "</style>\n",
       "<table border=\"1\" class=\"dataframe\">\n",
       "  <thead>\n",
       "    <tr style=\"text-align: right;\">\n",
       "      <th></th>\n",
       "      <th>id</th>\n",
       "      <th>species</th>\n",
       "      <th>margin1</th>\n",
       "      <th>margin2</th>\n",
       "      <th>margin3</th>\n",
       "      <th>margin4</th>\n",
       "      <th>margin5</th>\n",
       "      <th>margin6</th>\n",
       "      <th>margin7</th>\n",
       "      <th>margin8</th>\n",
       "      <th>...</th>\n",
       "      <th>texture55</th>\n",
       "      <th>texture56</th>\n",
       "      <th>texture57</th>\n",
       "      <th>texture58</th>\n",
       "      <th>texture59</th>\n",
       "      <th>texture60</th>\n",
       "      <th>texture61</th>\n",
       "      <th>texture62</th>\n",
       "      <th>texture63</th>\n",
       "      <th>texture64</th>\n",
       "    </tr>\n",
       "  </thead>\n",
       "  <tbody>\n",
       "    <tr>\n",
       "      <th>0</th>\n",
       "      <td>1</td>\n",
       "      <td>Acer_Opalus</td>\n",
       "      <td>0.007812</td>\n",
       "      <td>0.023438</td>\n",
       "      <td>0.023438</td>\n",
       "      <td>0.003906</td>\n",
       "      <td>0.011719</td>\n",
       "      <td>0.009766</td>\n",
       "      <td>0.027344</td>\n",
       "      <td>0.0</td>\n",
       "      <td>...</td>\n",
       "      <td>0.007812</td>\n",
       "      <td>0.000000</td>\n",
       "      <td>0.002930</td>\n",
       "      <td>0.002930</td>\n",
       "      <td>0.035156</td>\n",
       "      <td>0.0</td>\n",
       "      <td>0.0</td>\n",
       "      <td>0.004883</td>\n",
       "      <td>0.000000</td>\n",
       "      <td>0.025391</td>\n",
       "    </tr>\n",
       "    <tr>\n",
       "      <th>1</th>\n",
       "      <td>2</td>\n",
       "      <td>Pterocarya_Stenoptera</td>\n",
       "      <td>0.005859</td>\n",
       "      <td>0.000000</td>\n",
       "      <td>0.031250</td>\n",
       "      <td>0.015625</td>\n",
       "      <td>0.025391</td>\n",
       "      <td>0.001953</td>\n",
       "      <td>0.019531</td>\n",
       "      <td>0.0</td>\n",
       "      <td>...</td>\n",
       "      <td>0.000977</td>\n",
       "      <td>0.000000</td>\n",
       "      <td>0.000000</td>\n",
       "      <td>0.000977</td>\n",
       "      <td>0.023438</td>\n",
       "      <td>0.0</td>\n",
       "      <td>0.0</td>\n",
       "      <td>0.000977</td>\n",
       "      <td>0.039062</td>\n",
       "      <td>0.022461</td>\n",
       "    </tr>\n",
       "    <tr>\n",
       "      <th>2</th>\n",
       "      <td>3</td>\n",
       "      <td>Quercus_Hartwissiana</td>\n",
       "      <td>0.005859</td>\n",
       "      <td>0.009766</td>\n",
       "      <td>0.019531</td>\n",
       "      <td>0.007812</td>\n",
       "      <td>0.003906</td>\n",
       "      <td>0.005859</td>\n",
       "      <td>0.068359</td>\n",
       "      <td>0.0</td>\n",
       "      <td>...</td>\n",
       "      <td>0.154300</td>\n",
       "      <td>0.000000</td>\n",
       "      <td>0.005859</td>\n",
       "      <td>0.000977</td>\n",
       "      <td>0.007812</td>\n",
       "      <td>0.0</td>\n",
       "      <td>0.0</td>\n",
       "      <td>0.000000</td>\n",
       "      <td>0.020508</td>\n",
       "      <td>0.002930</td>\n",
       "    </tr>\n",
       "    <tr>\n",
       "      <th>3</th>\n",
       "      <td>5</td>\n",
       "      <td>Tilia_Tomentosa</td>\n",
       "      <td>0.000000</td>\n",
       "      <td>0.003906</td>\n",
       "      <td>0.023438</td>\n",
       "      <td>0.005859</td>\n",
       "      <td>0.021484</td>\n",
       "      <td>0.019531</td>\n",
       "      <td>0.023438</td>\n",
       "      <td>0.0</td>\n",
       "      <td>...</td>\n",
       "      <td>0.000000</td>\n",
       "      <td>0.000977</td>\n",
       "      <td>0.000000</td>\n",
       "      <td>0.000000</td>\n",
       "      <td>0.020508</td>\n",
       "      <td>0.0</td>\n",
       "      <td>0.0</td>\n",
       "      <td>0.017578</td>\n",
       "      <td>0.000000</td>\n",
       "      <td>0.047852</td>\n",
       "    </tr>\n",
       "    <tr>\n",
       "      <th>4</th>\n",
       "      <td>6</td>\n",
       "      <td>Quercus_Variabilis</td>\n",
       "      <td>0.005859</td>\n",
       "      <td>0.003906</td>\n",
       "      <td>0.048828</td>\n",
       "      <td>0.009766</td>\n",
       "      <td>0.013672</td>\n",
       "      <td>0.015625</td>\n",
       "      <td>0.005859</td>\n",
       "      <td>0.0</td>\n",
       "      <td>...</td>\n",
       "      <td>0.096680</td>\n",
       "      <td>0.000000</td>\n",
       "      <td>0.021484</td>\n",
       "      <td>0.000000</td>\n",
       "      <td>0.000000</td>\n",
       "      <td>0.0</td>\n",
       "      <td>0.0</td>\n",
       "      <td>0.000000</td>\n",
       "      <td>0.000000</td>\n",
       "      <td>0.031250</td>\n",
       "    </tr>\n",
       "  </tbody>\n",
       "</table>\n",
       "<p>5 rows × 194 columns</p>\n",
       "</div>"
      ],
      "text/plain": [
       "   id                species   margin1   margin2   margin3   margin4  \\\n",
       "0   1            Acer_Opalus  0.007812  0.023438  0.023438  0.003906   \n",
       "1   2  Pterocarya_Stenoptera  0.005859  0.000000  0.031250  0.015625   \n",
       "2   3   Quercus_Hartwissiana  0.005859  0.009766  0.019531  0.007812   \n",
       "3   5        Tilia_Tomentosa  0.000000  0.003906  0.023438  0.005859   \n",
       "4   6     Quercus_Variabilis  0.005859  0.003906  0.048828  0.009766   \n",
       "\n",
       "    margin5   margin6   margin7  margin8  ...  texture55  texture56  \\\n",
       "0  0.011719  0.009766  0.027344      0.0  ...   0.007812   0.000000   \n",
       "1  0.025391  0.001953  0.019531      0.0  ...   0.000977   0.000000   \n",
       "2  0.003906  0.005859  0.068359      0.0  ...   0.154300   0.000000   \n",
       "3  0.021484  0.019531  0.023438      0.0  ...   0.000000   0.000977   \n",
       "4  0.013672  0.015625  0.005859      0.0  ...   0.096680   0.000000   \n",
       "\n",
       "   texture57  texture58  texture59  texture60  texture61  texture62  \\\n",
       "0   0.002930   0.002930   0.035156        0.0        0.0   0.004883   \n",
       "1   0.000000   0.000977   0.023438        0.0        0.0   0.000977   \n",
       "2   0.005859   0.000977   0.007812        0.0        0.0   0.000000   \n",
       "3   0.000000   0.000000   0.020508        0.0        0.0   0.017578   \n",
       "4   0.021484   0.000000   0.000000        0.0        0.0   0.000000   \n",
       "\n",
       "   texture63  texture64  \n",
       "0   0.000000   0.025391  \n",
       "1   0.039062   0.022461  \n",
       "2   0.020508   0.002930  \n",
       "3   0.000000   0.047852  \n",
       "4   0.000000   0.031250  \n",
       "\n",
       "[5 rows x 194 columns]"
      ]
     },
     "execution_count": 2,
     "metadata": {},
     "output_type": "execute_result"
    }
   ],
   "source": [
    "data.head()"
   ]
  },
  {
   "cell_type": "markdown",
   "id": "hispanic-church",
   "metadata": {},
   "source": [
    "The data contains 989 samples with 193 attributes."
   ]
  },
  {
   "cell_type": "code",
   "execution_count": 3,
   "id": "assured-motel",
   "metadata": {},
   "outputs": [
    {
     "name": "stdout",
     "output_type": "stream",
     "text": [
      "<class 'pandas.core.frame.DataFrame'>\n",
      "RangeIndex: 990 entries, 0 to 989\n",
      "Columns: 194 entries, id to texture64\n",
      "dtypes: float64(192), int64(1), object(1)\n",
      "memory usage: 1.5+ MB\n"
     ]
    }
   ],
   "source": [
    "data.info()"
   ]
  },
  {
   "cell_type": "markdown",
   "id": "sustainable-interest",
   "metadata": {},
   "source": [
    "The column **species** represents the class that samples blong to. The leafs in this data set belongs to one of 99 different species or classes:"
   ]
  },
  {
   "cell_type": "code",
   "execution_count": 4,
   "id": "authorized-cartridge",
   "metadata": {},
   "outputs": [
    {
     "data": {
      "text/plain": [
       "Prunus_X_Shmittii               10\n",
       "Eucalyptus_Neglecta             10\n",
       "Eucalyptus_Urnigera             10\n",
       "Quercus_x_Turneri               10\n",
       "Quercus_Ilex                    10\n",
       "                                ..\n",
       "Quercus_Greggii                 10\n",
       "Quercus_Vulcanica               10\n",
       "Viburnum_x_Rhytidophylloides    10\n",
       "Acer_Circinatum                 10\n",
       "Salix_Fragilis                  10\n",
       "Name: species, Length: 99, dtype: int64"
      ]
     },
     "execution_count": 4,
     "metadata": {},
     "output_type": "execute_result"
    }
   ],
   "source": [
    "data['species'].value_counts()"
   ]
  },
  {
   "cell_type": "markdown",
   "id": "descending-establishment",
   "metadata": {},
   "source": [
    "## Take a look at the data"
   ]
  },
  {
   "cell_type": "markdown",
   "id": "wanted-extraction",
   "metadata": {},
   "source": [
    "In below I have obtained some interesting information about the form of data."
   ]
  },
  {
   "cell_type": "code",
   "execution_count": 5,
   "id": "arctic-nightlife",
   "metadata": {},
   "outputs": [
    {
     "data": {
      "text/html": [
       "<div>\n",
       "<style scoped>\n",
       "    .dataframe tbody tr th:only-of-type {\n",
       "        vertical-align: middle;\n",
       "    }\n",
       "\n",
       "    .dataframe tbody tr th {\n",
       "        vertical-align: top;\n",
       "    }\n",
       "\n",
       "    .dataframe thead th {\n",
       "        text-align: right;\n",
       "    }\n",
       "</style>\n",
       "<table border=\"1\" class=\"dataframe\">\n",
       "  <thead>\n",
       "    <tr style=\"text-align: right;\">\n",
       "      <th></th>\n",
       "      <th>id</th>\n",
       "      <th>margin1</th>\n",
       "      <th>margin2</th>\n",
       "      <th>margin3</th>\n",
       "      <th>margin4</th>\n",
       "      <th>margin5</th>\n",
       "      <th>margin6</th>\n",
       "      <th>margin7</th>\n",
       "      <th>margin8</th>\n",
       "      <th>margin9</th>\n",
       "      <th>...</th>\n",
       "      <th>texture55</th>\n",
       "      <th>texture56</th>\n",
       "      <th>texture57</th>\n",
       "      <th>texture58</th>\n",
       "      <th>texture59</th>\n",
       "      <th>texture60</th>\n",
       "      <th>texture61</th>\n",
       "      <th>texture62</th>\n",
       "      <th>texture63</th>\n",
       "      <th>texture64</th>\n",
       "    </tr>\n",
       "  </thead>\n",
       "  <tbody>\n",
       "    <tr>\n",
       "      <th>count</th>\n",
       "      <td>990.000000</td>\n",
       "      <td>990.000000</td>\n",
       "      <td>990.000000</td>\n",
       "      <td>990.000000</td>\n",
       "      <td>990.000000</td>\n",
       "      <td>990.000000</td>\n",
       "      <td>990.000000</td>\n",
       "      <td>990.000000</td>\n",
       "      <td>990.000000</td>\n",
       "      <td>990.000000</td>\n",
       "      <td>...</td>\n",
       "      <td>990.000000</td>\n",
       "      <td>990.000000</td>\n",
       "      <td>990.000000</td>\n",
       "      <td>990.000000</td>\n",
       "      <td>990.000000</td>\n",
       "      <td>990.000000</td>\n",
       "      <td>990.000000</td>\n",
       "      <td>990.000000</td>\n",
       "      <td>990.000000</td>\n",
       "      <td>990.000000</td>\n",
       "    </tr>\n",
       "    <tr>\n",
       "      <th>mean</th>\n",
       "      <td>799.595960</td>\n",
       "      <td>0.017412</td>\n",
       "      <td>0.028539</td>\n",
       "      <td>0.031988</td>\n",
       "      <td>0.023280</td>\n",
       "      <td>0.014264</td>\n",
       "      <td>0.038579</td>\n",
       "      <td>0.019202</td>\n",
       "      <td>0.001083</td>\n",
       "      <td>0.007167</td>\n",
       "      <td>...</td>\n",
       "      <td>0.036501</td>\n",
       "      <td>0.005024</td>\n",
       "      <td>0.015944</td>\n",
       "      <td>0.011586</td>\n",
       "      <td>0.016108</td>\n",
       "      <td>0.014017</td>\n",
       "      <td>0.002688</td>\n",
       "      <td>0.020291</td>\n",
       "      <td>0.008989</td>\n",
       "      <td>0.019420</td>\n",
       "    </tr>\n",
       "    <tr>\n",
       "      <th>std</th>\n",
       "      <td>452.477568</td>\n",
       "      <td>0.019739</td>\n",
       "      <td>0.038855</td>\n",
       "      <td>0.025847</td>\n",
       "      <td>0.028411</td>\n",
       "      <td>0.018390</td>\n",
       "      <td>0.052030</td>\n",
       "      <td>0.017511</td>\n",
       "      <td>0.002743</td>\n",
       "      <td>0.008933</td>\n",
       "      <td>...</td>\n",
       "      <td>0.063403</td>\n",
       "      <td>0.019321</td>\n",
       "      <td>0.023214</td>\n",
       "      <td>0.025040</td>\n",
       "      <td>0.015335</td>\n",
       "      <td>0.060151</td>\n",
       "      <td>0.011415</td>\n",
       "      <td>0.039040</td>\n",
       "      <td>0.013791</td>\n",
       "      <td>0.022768</td>\n",
       "    </tr>\n",
       "    <tr>\n",
       "      <th>min</th>\n",
       "      <td>1.000000</td>\n",
       "      <td>0.000000</td>\n",
       "      <td>0.000000</td>\n",
       "      <td>0.000000</td>\n",
       "      <td>0.000000</td>\n",
       "      <td>0.000000</td>\n",
       "      <td>0.000000</td>\n",
       "      <td>0.000000</td>\n",
       "      <td>0.000000</td>\n",
       "      <td>0.000000</td>\n",
       "      <td>...</td>\n",
       "      <td>0.000000</td>\n",
       "      <td>0.000000</td>\n",
       "      <td>0.000000</td>\n",
       "      <td>0.000000</td>\n",
       "      <td>0.000000</td>\n",
       "      <td>0.000000</td>\n",
       "      <td>0.000000</td>\n",
       "      <td>0.000000</td>\n",
       "      <td>0.000000</td>\n",
       "      <td>0.000000</td>\n",
       "    </tr>\n",
       "    <tr>\n",
       "      <th>25%</th>\n",
       "      <td>415.250000</td>\n",
       "      <td>0.001953</td>\n",
       "      <td>0.001953</td>\n",
       "      <td>0.013672</td>\n",
       "      <td>0.005859</td>\n",
       "      <td>0.001953</td>\n",
       "      <td>0.000000</td>\n",
       "      <td>0.005859</td>\n",
       "      <td>0.000000</td>\n",
       "      <td>0.001953</td>\n",
       "      <td>...</td>\n",
       "      <td>0.000000</td>\n",
       "      <td>0.000000</td>\n",
       "      <td>0.000977</td>\n",
       "      <td>0.000000</td>\n",
       "      <td>0.004883</td>\n",
       "      <td>0.000000</td>\n",
       "      <td>0.000000</td>\n",
       "      <td>0.000000</td>\n",
       "      <td>0.000000</td>\n",
       "      <td>0.000977</td>\n",
       "    </tr>\n",
       "    <tr>\n",
       "      <th>50%</th>\n",
       "      <td>802.500000</td>\n",
       "      <td>0.009766</td>\n",
       "      <td>0.011719</td>\n",
       "      <td>0.025391</td>\n",
       "      <td>0.013672</td>\n",
       "      <td>0.007812</td>\n",
       "      <td>0.015625</td>\n",
       "      <td>0.015625</td>\n",
       "      <td>0.000000</td>\n",
       "      <td>0.005859</td>\n",
       "      <td>...</td>\n",
       "      <td>0.004883</td>\n",
       "      <td>0.000000</td>\n",
       "      <td>0.005859</td>\n",
       "      <td>0.000977</td>\n",
       "      <td>0.012695</td>\n",
       "      <td>0.000000</td>\n",
       "      <td>0.000000</td>\n",
       "      <td>0.003906</td>\n",
       "      <td>0.002930</td>\n",
       "      <td>0.011719</td>\n",
       "    </tr>\n",
       "    <tr>\n",
       "      <th>75%</th>\n",
       "      <td>1195.500000</td>\n",
       "      <td>0.025391</td>\n",
       "      <td>0.041016</td>\n",
       "      <td>0.044922</td>\n",
       "      <td>0.029297</td>\n",
       "      <td>0.017578</td>\n",
       "      <td>0.056153</td>\n",
       "      <td>0.029297</td>\n",
       "      <td>0.000000</td>\n",
       "      <td>0.007812</td>\n",
       "      <td>...</td>\n",
       "      <td>0.043701</td>\n",
       "      <td>0.000000</td>\n",
       "      <td>0.022217</td>\n",
       "      <td>0.009766</td>\n",
       "      <td>0.021484</td>\n",
       "      <td>0.000000</td>\n",
       "      <td>0.000000</td>\n",
       "      <td>0.023438</td>\n",
       "      <td>0.012695</td>\n",
       "      <td>0.029297</td>\n",
       "    </tr>\n",
       "    <tr>\n",
       "      <th>max</th>\n",
       "      <td>1584.000000</td>\n",
       "      <td>0.087891</td>\n",
       "      <td>0.205080</td>\n",
       "      <td>0.156250</td>\n",
       "      <td>0.169920</td>\n",
       "      <td>0.111330</td>\n",
       "      <td>0.310550</td>\n",
       "      <td>0.091797</td>\n",
       "      <td>0.031250</td>\n",
       "      <td>0.076172</td>\n",
       "      <td>...</td>\n",
       "      <td>0.429690</td>\n",
       "      <td>0.202150</td>\n",
       "      <td>0.172850</td>\n",
       "      <td>0.200200</td>\n",
       "      <td>0.106450</td>\n",
       "      <td>0.578130</td>\n",
       "      <td>0.151370</td>\n",
       "      <td>0.375980</td>\n",
       "      <td>0.086914</td>\n",
       "      <td>0.141600</td>\n",
       "    </tr>\n",
       "  </tbody>\n",
       "</table>\n",
       "<p>8 rows × 193 columns</p>\n",
       "</div>"
      ],
      "text/plain": [
       "                id     margin1     margin2     margin3     margin4  \\\n",
       "count   990.000000  990.000000  990.000000  990.000000  990.000000   \n",
       "mean    799.595960    0.017412    0.028539    0.031988    0.023280   \n",
       "std     452.477568    0.019739    0.038855    0.025847    0.028411   \n",
       "min       1.000000    0.000000    0.000000    0.000000    0.000000   \n",
       "25%     415.250000    0.001953    0.001953    0.013672    0.005859   \n",
       "50%     802.500000    0.009766    0.011719    0.025391    0.013672   \n",
       "75%    1195.500000    0.025391    0.041016    0.044922    0.029297   \n",
       "max    1584.000000    0.087891    0.205080    0.156250    0.169920   \n",
       "\n",
       "          margin5     margin6     margin7     margin8     margin9  ...  \\\n",
       "count  990.000000  990.000000  990.000000  990.000000  990.000000  ...   \n",
       "mean     0.014264    0.038579    0.019202    0.001083    0.007167  ...   \n",
       "std      0.018390    0.052030    0.017511    0.002743    0.008933  ...   \n",
       "min      0.000000    0.000000    0.000000    0.000000    0.000000  ...   \n",
       "25%      0.001953    0.000000    0.005859    0.000000    0.001953  ...   \n",
       "50%      0.007812    0.015625    0.015625    0.000000    0.005859  ...   \n",
       "75%      0.017578    0.056153    0.029297    0.000000    0.007812  ...   \n",
       "max      0.111330    0.310550    0.091797    0.031250    0.076172  ...   \n",
       "\n",
       "        texture55   texture56   texture57   texture58   texture59   texture60  \\\n",
       "count  990.000000  990.000000  990.000000  990.000000  990.000000  990.000000   \n",
       "mean     0.036501    0.005024    0.015944    0.011586    0.016108    0.014017   \n",
       "std      0.063403    0.019321    0.023214    0.025040    0.015335    0.060151   \n",
       "min      0.000000    0.000000    0.000000    0.000000    0.000000    0.000000   \n",
       "25%      0.000000    0.000000    0.000977    0.000000    0.004883    0.000000   \n",
       "50%      0.004883    0.000000    0.005859    0.000977    0.012695    0.000000   \n",
       "75%      0.043701    0.000000    0.022217    0.009766    0.021484    0.000000   \n",
       "max      0.429690    0.202150    0.172850    0.200200    0.106450    0.578130   \n",
       "\n",
       "        texture61   texture62   texture63   texture64  \n",
       "count  990.000000  990.000000  990.000000  990.000000  \n",
       "mean     0.002688    0.020291    0.008989    0.019420  \n",
       "std      0.011415    0.039040    0.013791    0.022768  \n",
       "min      0.000000    0.000000    0.000000    0.000000  \n",
       "25%      0.000000    0.000000    0.000000    0.000977  \n",
       "50%      0.000000    0.003906    0.002930    0.011719  \n",
       "75%      0.000000    0.023438    0.012695    0.029297  \n",
       "max      0.151370    0.375980    0.086914    0.141600  \n",
       "\n",
       "[8 rows x 193 columns]"
      ]
     },
     "execution_count": 5,
     "metadata": {},
     "output_type": "execute_result"
    }
   ],
   "source": [
    "data.describe()"
   ]
  },
  {
   "cell_type": "markdown",
   "id": "defined-neighbor",
   "metadata": {},
   "source": [
    "As the table above suggests, most of the attributes are skewed to the right, this is because for most of them the value of mean is greater than the value of the median(50%), which means the values of an attribute concentrated more in the right of their histogram."
   ]
  },
  {
   "cell_type": "markdown",
   "id": "dynamic-arena",
   "metadata": {},
   "source": [
    "This suggestion is proved by taking a look at the data plots:"
   ]
  },
  {
   "cell_type": "code",
   "execution_count": 6,
   "id": "headed-offer",
   "metadata": {},
   "outputs": [
    {
     "data": {
      "image/png": "[encoded data removed]",
      "text/plain": [
       "<Figure size 2880x1800 with 196 Axes>"
      ]
     },
     "metadata": {
      "needs_background": "light"
     },
     "output_type": "display_data"
    }
   ],
   "source": [
    "import matplotlib.pyplot as plt\n",
    "data.hist(bins = 50 , figsize = (40,25))\n",
    "plt.show()"
   ]
  },
  {
   "cell_type": "markdown",
   "id": "important-wednesday",
   "metadata": {},
   "source": [
    "### Example"
   ]
  },
  {
   "cell_type": "markdown",
   "id": "legal-announcement",
   "metadata": {},
   "source": [
    "Verifying the form of some attributes. For **margin1** the mean value is less greater than the median value. This suggests that the probability distribution of margin1 for the samples are more skewed to the right."
   ]
  },
  {
   "cell_type": "code",
   "execution_count": 7,
   "id": "going-appeal",
   "metadata": {},
   "outputs": [
    {
     "data": {
      "text/plain": [
       "0.017412358585858587"
      ]
     },
     "execution_count": 7,
     "metadata": {},
     "output_type": "execute_result"
    }
   ],
   "source": [
    "data[\"margin1\"].mean()"
   ]
  },
  {
   "cell_type": "code",
   "execution_count": 8,
   "id": "occasional-slope",
   "metadata": {},
   "outputs": [
    {
     "data": {
      "text/plain": [
       "0.009766"
      ]
     },
     "execution_count": 8,
     "metadata": {},
     "output_type": "execute_result"
    }
   ],
   "source": [
    "data[\"margin1\"].median()"
   ]
  },
  {
   "cell_type": "code",
   "execution_count": 9,
   "id": "powerful-placement",
   "metadata": {},
   "outputs": [
    {
     "data": {
      "text/plain": [
       "0    0.0\n",
       "dtype: float64"
      ]
     },
     "execution_count": 9,
     "metadata": {},
     "output_type": "execute_result"
    }
   ],
   "source": [
    "data[\"margin1\"].mode()"
   ]
  },
  {
   "cell_type": "markdown",
   "id": "stone-manchester",
   "metadata": {},
   "source": [
    "This hypothesis can be confirmed by calculating the skew metric as well as Kurtosis metric for this attribute."
   ]
  },
  {
   "cell_type": "code",
   "execution_count": 10,
   "id": "front-botswana",
   "metadata": {},
   "outputs": [
    {
     "data": {
      "text/plain": [
       "1.3095606951906675"
      ]
     },
     "execution_count": 10,
     "metadata": {},
     "output_type": "execute_result"
    }
   ],
   "source": [
    "data[\"margin1\"].skew()"
   ]
  },
  {
   "cell_type": "code",
   "execution_count": 11,
   "id": "laden-jacob",
   "metadata": {},
   "outputs": [
    {
     "data": {
      "text/plain": [
       "0.9423392599854723"
      ]
     },
     "execution_count": 11,
     "metadata": {},
     "output_type": "execute_result"
    }
   ],
   "source": [
    "data[\"margin1\"].kurtosis()"
   ]
  },
  {
   "cell_type": "code",
   "execution_count": 12,
   "id": "underlying-receptor",
   "metadata": {},
   "outputs": [
    {
     "data": {
      "image/png": "[encoded data removed]",
      "text/plain": [
       "<Figure size 432x288 with 1 Axes>"
      ]
     },
     "metadata": {
      "needs_background": "light"
     },
     "output_type": "display_data"
    }
   ],
   "source": [
    "plt.hist(data[\"margin1\"],50)\n",
    "plt.show()"
   ]
  },
  {
   "cell_type": "markdown",
   "id": "collectible-sperm",
   "metadata": {},
   "source": [
    "It would be useful as well to verify the correlation between the attributes. High correlation means there is a probability that there be more than one solution and as a result we get to the not optimized result."
   ]
  },
  {
   "cell_type": "code",
   "execution_count": 13,
   "id": "above-directory",
   "metadata": {},
   "outputs": [],
   "source": [
    "correlation_matrix = data.corr()"
   ]
  },
  {
   "cell_type": "code",
   "execution_count": 14,
   "id": "numeric-horizontal",
   "metadata": {},
   "outputs": [
    {
     "data": {
      "text/plain": [
       "<AxesSubplot:>"
      ]
     },
     "execution_count": 14,
     "metadata": {},
     "output_type": "execute_result"
    },
    {
     "data": {
      "image/png": "[encoded data removed]",
      "text/plain": [
       "<Figure size 432x288 with 2 Axes>"
      ]
     },
     "metadata": {
      "needs_background": "light"
     },
     "output_type": "display_data"
    }
   ],
   "source": [
    "import seaborn as sns\n",
    "sns.heatmap(correlation_matrix)"
   ]
  },
  {
   "cell_type": "markdown",
   "id": "binding-adobe",
   "metadata": {},
   "source": [
    "The dominant red color in this heat map illustrates a high correlation between some of the features, so it would be a good idea to remove one of the attributes if there are two attributes that are highly correlated."
   ]
  },
  {
   "cell_type": "markdown",
   "id": "actual-brake",
   "metadata": {},
   "source": [
    "To do that we consider the upper triangle matrix of the correlation matrix"
   ]
  },
  {
   "cell_type": "code",
   "execution_count": 15,
   "id": "endangered-employer",
   "metadata": {},
   "outputs": [
    {
     "name": "stderr",
     "output_type": "stream",
     "text": [
      "<ipython-input-15-ef4c8f4dbef2>:2: DeprecationWarning: `np.bool` is a deprecated alias for the builtin `bool`. To silence this warning, use `bool` by itself. Doing this will not modify any behavior and is safe. If you specifically wanted the numpy scalar type, use `np.bool_` here.\n",
      "Deprecated in NumPy 1.20; for more details and guidance: https://numpy.org/devdocs/release/1.20.0-notes.html#deprecations\n",
      "  upper_tri = correlation_matrix.where(np.triu(np.ones(correlation_matrix.shape),k=1).astype(np.bool))\n"
     ]
    }
   ],
   "source": [
    "\n",
    "import numpy as np\n",
    "upper_tri = correlation_matrix.where(np.triu(np.ones(correlation_matrix.shape),k=1).astype(np.bool))\n"
   ]
  },
  {
   "cell_type": "code",
   "execution_count": 16,
   "id": "played-music",
   "metadata": {},
   "outputs": [],
   "source": [
    "columns = data.columns.drop('species')"
   ]
  },
  {
   "cell_type": "code",
   "execution_count": 17,
   "id": "sticky-correspondence",
   "metadata": {},
   "outputs": [],
   "source": [
    "to_drop = [column for column in columns if any(upper_tri[column] > 0.95) ]"
   ]
  },
  {
   "cell_type": "code",
   "execution_count": 18,
   "id": "prostate-florist",
   "metadata": {},
   "outputs": [
    {
     "data": {
      "text/plain": [
       "['id',\n",
       " 'species',\n",
       " 'margin1',\n",
       " 'margin2',\n",
       " 'margin3',\n",
       " 'margin4',\n",
       " 'margin5',\n",
       " 'margin6',\n",
       " 'margin7',\n",
       " 'margin8',\n",
       " 'margin9',\n",
       " 'margin10',\n",
       " 'margin11',\n",
       " 'margin12',\n",
       " 'margin13',\n",
       " 'margin14',\n",
       " 'margin15',\n",
       " 'margin16',\n",
       " 'margin17',\n",
       " 'margin18',\n",
       " 'margin19',\n",
       " 'margin20',\n",
       " 'margin21',\n",
       " 'margin22',\n",
       " 'margin23',\n",
       " 'margin24',\n",
       " 'margin25',\n",
       " 'margin26',\n",
       " 'margin27',\n",
       " 'margin28',\n",
       " 'margin29',\n",
       " 'margin30',\n",
       " 'margin31',\n",
       " 'margin32',\n",
       " 'margin33',\n",
       " 'margin34',\n",
       " 'margin35',\n",
       " 'margin36',\n",
       " 'margin37',\n",
       " 'margin38',\n",
       " 'margin39',\n",
       " 'margin40',\n",
       " 'margin41',\n",
       " 'margin42',\n",
       " 'margin43',\n",
       " 'margin44',\n",
       " 'margin45',\n",
       " 'margin46',\n",
       " 'margin47',\n",
       " 'margin48',\n",
       " 'margin49',\n",
       " 'margin50',\n",
       " 'margin51',\n",
       " 'margin52',\n",
       " 'margin53',\n",
       " 'margin54',\n",
       " 'margin55',\n",
       " 'margin56',\n",
       " 'margin57',\n",
       " 'margin58',\n",
       " 'margin59',\n",
       " 'margin60',\n",
       " 'margin61',\n",
       " 'margin62',\n",
       " 'margin63',\n",
       " 'margin64',\n",
       " 'shape1',\n",
       " 'shape2',\n",
       " 'shape3',\n",
       " 'shape4',\n",
       " 'shape5',\n",
       " 'shape6',\n",
       " 'shape7',\n",
       " 'shape8',\n",
       " 'shape9',\n",
       " 'shape10',\n",
       " 'shape11',\n",
       " 'shape12',\n",
       " 'shape13',\n",
       " 'shape14',\n",
       " 'shape15',\n",
       " 'shape16',\n",
       " 'shape17',\n",
       " 'shape18',\n",
       " 'shape19',\n",
       " 'shape20',\n",
       " 'shape21',\n",
       " 'shape22',\n",
       " 'shape23',\n",
       " 'shape24',\n",
       " 'shape25',\n",
       " 'shape26',\n",
       " 'shape27',\n",
       " 'shape28',\n",
       " 'shape29',\n",
       " 'shape30',\n",
       " 'shape31',\n",
       " 'shape32',\n",
       " 'shape33',\n",
       " 'shape34',\n",
       " 'shape35',\n",
       " 'shape36',\n",
       " 'shape37',\n",
       " 'shape38',\n",
       " 'shape39',\n",
       " 'shape40',\n",
       " 'shape41',\n",
       " 'shape42',\n",
       " 'shape43',\n",
       " 'shape44',\n",
       " 'shape45',\n",
       " 'shape46',\n",
       " 'shape47',\n",
       " 'shape48',\n",
       " 'shape49',\n",
       " 'shape50',\n",
       " 'shape51',\n",
       " 'shape52',\n",
       " 'shape53',\n",
       " 'shape54',\n",
       " 'shape55',\n",
       " 'shape56',\n",
       " 'shape57',\n",
       " 'shape58',\n",
       " 'shape59',\n",
       " 'shape60',\n",
       " 'shape61',\n",
       " 'shape62',\n",
       " 'shape63',\n",
       " 'shape64',\n",
       " 'texture1',\n",
       " 'texture2',\n",
       " 'texture3',\n",
       " 'texture4',\n",
       " 'texture5',\n",
       " 'texture6',\n",
       " 'texture7',\n",
       " 'texture8',\n",
       " 'texture9',\n",
       " 'texture10',\n",
       " 'texture11',\n",
       " 'texture12',\n",
       " 'texture13',\n",
       " 'texture14',\n",
       " 'texture15',\n",
       " 'texture16',\n",
       " 'texture17',\n",
       " 'texture18',\n",
       " 'texture19',\n",
       " 'texture20',\n",
       " 'texture21',\n",
       " 'texture22',\n",
       " 'texture23',\n",
       " 'texture24',\n",
       " 'texture25',\n",
       " 'texture26',\n",
       " 'texture27',\n",
       " 'texture28',\n",
       " 'texture29',\n",
       " 'texture30',\n",
       " 'texture31',\n",
       " 'texture32',\n",
       " 'texture33',\n",
       " 'texture34',\n",
       " 'texture35',\n",
       " 'texture36',\n",
       " 'texture37',\n",
       " 'texture38',\n",
       " 'texture39',\n",
       " 'texture40',\n",
       " 'texture41',\n",
       " 'texture42',\n",
       " 'texture43',\n",
       " 'texture44',\n",
       " 'texture45',\n",
       " 'texture46',\n",
       " 'texture47',\n",
       " 'texture48',\n",
       " 'texture49',\n",
       " 'texture50',\n",
       " 'texture51',\n",
       " 'texture52',\n",
       " 'texture53',\n",
       " 'texture54',\n",
       " 'texture55',\n",
       " 'texture56',\n",
       " 'texture57',\n",
       " 'texture58',\n",
       " 'texture59',\n",
       " 'texture60',\n",
       " 'texture61',\n",
       " 'texture62',\n",
       " 'texture63',\n",
       " 'texture64']"
      ]
     },
     "execution_count": 18,
     "metadata": {},
     "output_type": "execute_result"
    }
   ],
   "source": [
    "list(data.columns)"
   ]
  },
  {
   "cell_type": "code",
   "execution_count": 19,
   "id": "unlikely-technology",
   "metadata": {},
   "outputs": [],
   "source": [
    "to_drop.append('id')"
   ]
  },
  {
   "cell_type": "code",
   "execution_count": 20,
   "id": "upper-cleaner",
   "metadata": {},
   "outputs": [
    {
     "name": "stdout",
     "output_type": "stream",
     "text": [
      "['shape2', 'shape3', 'shape4', 'shape5', 'shape6', 'shape7', 'shape8', 'shape9', 'shape10', 'shape11', 'shape12', 'shape13', 'shape14', 'shape15', 'shape16', 'shape17', 'shape18', 'shape19', 'shape20', 'shape21', 'shape22', 'shape23', 'shape24', 'shape25', 'shape26', 'shape27', 'shape28', 'shape29', 'shape30', 'shape31', 'shape32', 'shape33', 'shape34', 'shape35', 'shape36', 'shape37', 'shape38', 'shape39', 'shape40', 'shape41', 'shape42', 'shape43', 'shape44', 'shape45', 'shape46', 'shape47', 'shape48', 'shape49', 'shape50', 'shape51', 'shape52', 'shape53', 'shape54', 'shape55', 'shape56', 'shape57', 'shape58', 'shape59', 'shape60', 'shape61', 'shape62', 'shape63', 'shape64', 'id']\n"
     ]
    }
   ],
   "source": [
    "print(to_drop)"
   ]
  },
  {
   "cell_type": "markdown",
   "id": "saved-briefing",
   "metadata": {},
   "source": [
    "Now we can define a transformer whose job is to drop the attributes speified in to_drop."
   ]
  },
  {
   "cell_type": "code",
   "execution_count": 21,
   "id": "responsible-tuning",
   "metadata": {},
   "outputs": [],
   "source": [
    "from sklearn.base import BaseEstimator, TransformerMixin\n",
    "\n",
    "class DropAttributes(BaseEstimator, TransformerMixin):\n",
    "    def __init__(self):\n",
    "        pass\n",
    "    def fit(self, X, y = None):\n",
    "        \n",
    "        return self\n",
    "    def transform(self, X, y = None):\n",
    "        return X.drop(X[to_drop], axis = 1)"
   ]
  },
  {
   "cell_type": "code",
   "execution_count": 22,
   "id": "swedish-indicator",
   "metadata": {},
   "outputs": [
    {
     "data": {
      "text/plain": [
       "Index(['id', 'species', 'margin1', 'margin2', 'margin3', 'margin4', 'margin5',\n",
       "       'margin6', 'margin7', 'margin8',\n",
       "       ...\n",
       "       'texture55', 'texture56', 'texture57', 'texture58', 'texture59',\n",
       "       'texture60', 'texture61', 'texture62', 'texture63', 'texture64'],\n",
       "      dtype='object', length=194)"
      ]
     },
     "execution_count": 22,
     "metadata": {},
     "output_type": "execute_result"
    }
   ],
   "source": [
    "data.columns"
   ]
  },
  {
   "cell_type": "code",
   "execution_count": 23,
   "id": "hollow-commercial",
   "metadata": {},
   "outputs": [],
   "source": [
    "attr_drop = DropAttributes()\n",
    "data1 = attr_drop.fit_transform(data)"
   ]
  },
  {
   "cell_type": "code",
   "execution_count": 24,
   "id": "unexpected-beach",
   "metadata": {},
   "outputs": [
    {
     "data": {
      "text/html": [
       "<div>\n",
       "<style scoped>\n",
       "    .dataframe tbody tr th:only-of-type {\n",
       "        vertical-align: middle;\n",
       "    }\n",
       "\n",
       "    .dataframe tbody tr th {\n",
       "        vertical-align: top;\n",
       "    }\n",
       "\n",
       "    .dataframe thead th {\n",
       "        text-align: right;\n",
       "    }\n",
       "</style>\n",
       "<table border=\"1\" class=\"dataframe\">\n",
       "  <thead>\n",
       "    <tr style=\"text-align: right;\">\n",
       "      <th></th>\n",
       "      <th>species</th>\n",
       "      <th>margin1</th>\n",
       "      <th>margin2</th>\n",
       "      <th>margin3</th>\n",
       "      <th>margin4</th>\n",
       "      <th>margin5</th>\n",
       "      <th>margin6</th>\n",
       "      <th>margin7</th>\n",
       "      <th>margin8</th>\n",
       "      <th>margin9</th>\n",
       "      <th>...</th>\n",
       "      <th>texture55</th>\n",
       "      <th>texture56</th>\n",
       "      <th>texture57</th>\n",
       "      <th>texture58</th>\n",
       "      <th>texture59</th>\n",
       "      <th>texture60</th>\n",
       "      <th>texture61</th>\n",
       "      <th>texture62</th>\n",
       "      <th>texture63</th>\n",
       "      <th>texture64</th>\n",
       "    </tr>\n",
       "  </thead>\n",
       "  <tbody>\n",
       "    <tr>\n",
       "      <th>0</th>\n",
       "      <td>Acer_Opalus</td>\n",
       "      <td>0.007812</td>\n",
       "      <td>0.023438</td>\n",
       "      <td>0.023438</td>\n",
       "      <td>0.003906</td>\n",
       "      <td>0.011719</td>\n",
       "      <td>0.009766</td>\n",
       "      <td>0.027344</td>\n",
       "      <td>0.0</td>\n",
       "      <td>0.001953</td>\n",
       "      <td>...</td>\n",
       "      <td>0.007812</td>\n",
       "      <td>0.000000</td>\n",
       "      <td>0.002930</td>\n",
       "      <td>0.002930</td>\n",
       "      <td>0.035156</td>\n",
       "      <td>0.000000</td>\n",
       "      <td>0.000000</td>\n",
       "      <td>0.004883</td>\n",
       "      <td>0.000000</td>\n",
       "      <td>0.025391</td>\n",
       "    </tr>\n",
       "    <tr>\n",
       "      <th>1</th>\n",
       "      <td>Pterocarya_Stenoptera</td>\n",
       "      <td>0.005859</td>\n",
       "      <td>0.000000</td>\n",
       "      <td>0.031250</td>\n",
       "      <td>0.015625</td>\n",
       "      <td>0.025391</td>\n",
       "      <td>0.001953</td>\n",
       "      <td>0.019531</td>\n",
       "      <td>0.0</td>\n",
       "      <td>0.000000</td>\n",
       "      <td>...</td>\n",
       "      <td>0.000977</td>\n",
       "      <td>0.000000</td>\n",
       "      <td>0.000000</td>\n",
       "      <td>0.000977</td>\n",
       "      <td>0.023438</td>\n",
       "      <td>0.000000</td>\n",
       "      <td>0.000000</td>\n",
       "      <td>0.000977</td>\n",
       "      <td>0.039062</td>\n",
       "      <td>0.022461</td>\n",
       "    </tr>\n",
       "    <tr>\n",
       "      <th>2</th>\n",
       "      <td>Quercus_Hartwissiana</td>\n",
       "      <td>0.005859</td>\n",
       "      <td>0.009766</td>\n",
       "      <td>0.019531</td>\n",
       "      <td>0.007812</td>\n",
       "      <td>0.003906</td>\n",
       "      <td>0.005859</td>\n",
       "      <td>0.068359</td>\n",
       "      <td>0.0</td>\n",
       "      <td>0.000000</td>\n",
       "      <td>...</td>\n",
       "      <td>0.154300</td>\n",
       "      <td>0.000000</td>\n",
       "      <td>0.005859</td>\n",
       "      <td>0.000977</td>\n",
       "      <td>0.007812</td>\n",
       "      <td>0.000000</td>\n",
       "      <td>0.000000</td>\n",
       "      <td>0.000000</td>\n",
       "      <td>0.020508</td>\n",
       "      <td>0.002930</td>\n",
       "    </tr>\n",
       "    <tr>\n",
       "      <th>3</th>\n",
       "      <td>Tilia_Tomentosa</td>\n",
       "      <td>0.000000</td>\n",
       "      <td>0.003906</td>\n",
       "      <td>0.023438</td>\n",
       "      <td>0.005859</td>\n",
       "      <td>0.021484</td>\n",
       "      <td>0.019531</td>\n",
       "      <td>0.023438</td>\n",
       "      <td>0.0</td>\n",
       "      <td>0.013672</td>\n",
       "      <td>...</td>\n",
       "      <td>0.000000</td>\n",
       "      <td>0.000977</td>\n",
       "      <td>0.000000</td>\n",
       "      <td>0.000000</td>\n",
       "      <td>0.020508</td>\n",
       "      <td>0.000000</td>\n",
       "      <td>0.000000</td>\n",
       "      <td>0.017578</td>\n",
       "      <td>0.000000</td>\n",
       "      <td>0.047852</td>\n",
       "    </tr>\n",
       "    <tr>\n",
       "      <th>4</th>\n",
       "      <td>Quercus_Variabilis</td>\n",
       "      <td>0.005859</td>\n",
       "      <td>0.003906</td>\n",
       "      <td>0.048828</td>\n",
       "      <td>0.009766</td>\n",
       "      <td>0.013672</td>\n",
       "      <td>0.015625</td>\n",
       "      <td>0.005859</td>\n",
       "      <td>0.0</td>\n",
       "      <td>0.000000</td>\n",
       "      <td>...</td>\n",
       "      <td>0.096680</td>\n",
       "      <td>0.000000</td>\n",
       "      <td>0.021484</td>\n",
       "      <td>0.000000</td>\n",
       "      <td>0.000000</td>\n",
       "      <td>0.000000</td>\n",
       "      <td>0.000000</td>\n",
       "      <td>0.000000</td>\n",
       "      <td>0.000000</td>\n",
       "      <td>0.031250</td>\n",
       "    </tr>\n",
       "    <tr>\n",
       "      <th>...</th>\n",
       "      <td>...</td>\n",
       "      <td>...</td>\n",
       "      <td>...</td>\n",
       "      <td>...</td>\n",
       "      <td>...</td>\n",
       "      <td>...</td>\n",
       "      <td>...</td>\n",
       "      <td>...</td>\n",
       "      <td>...</td>\n",
       "      <td>...</td>\n",
       "      <td>...</td>\n",
       "      <td>...</td>\n",
       "      <td>...</td>\n",
       "      <td>...</td>\n",
       "      <td>...</td>\n",
       "      <td>...</td>\n",
       "      <td>...</td>\n",
       "      <td>...</td>\n",
       "      <td>...</td>\n",
       "      <td>...</td>\n",
       "      <td>...</td>\n",
       "    </tr>\n",
       "    <tr>\n",
       "      <th>985</th>\n",
       "      <td>Magnolia_Salicifolia</td>\n",
       "      <td>0.060547</td>\n",
       "      <td>0.119140</td>\n",
       "      <td>0.007812</td>\n",
       "      <td>0.003906</td>\n",
       "      <td>0.000000</td>\n",
       "      <td>0.148440</td>\n",
       "      <td>0.017578</td>\n",
       "      <td>0.0</td>\n",
       "      <td>0.001953</td>\n",
       "      <td>...</td>\n",
       "      <td>0.242190</td>\n",
       "      <td>0.000000</td>\n",
       "      <td>0.034180</td>\n",
       "      <td>0.000000</td>\n",
       "      <td>0.010742</td>\n",
       "      <td>0.000000</td>\n",
       "      <td>0.000000</td>\n",
       "      <td>0.000000</td>\n",
       "      <td>0.000000</td>\n",
       "      <td>0.018555</td>\n",
       "    </tr>\n",
       "    <tr>\n",
       "      <th>986</th>\n",
       "      <td>Acer_Pictum</td>\n",
       "      <td>0.001953</td>\n",
       "      <td>0.003906</td>\n",
       "      <td>0.021484</td>\n",
       "      <td>0.107420</td>\n",
       "      <td>0.001953</td>\n",
       "      <td>0.000000</td>\n",
       "      <td>0.000000</td>\n",
       "      <td>0.0</td>\n",
       "      <td>0.029297</td>\n",
       "      <td>...</td>\n",
       "      <td>0.170900</td>\n",
       "      <td>0.000000</td>\n",
       "      <td>0.018555</td>\n",
       "      <td>0.000000</td>\n",
       "      <td>0.011719</td>\n",
       "      <td>0.000000</td>\n",
       "      <td>0.000000</td>\n",
       "      <td>0.000977</td>\n",
       "      <td>0.000000</td>\n",
       "      <td>0.021484</td>\n",
       "    </tr>\n",
       "    <tr>\n",
       "      <th>987</th>\n",
       "      <td>Alnus_Maximowiczii</td>\n",
       "      <td>0.001953</td>\n",
       "      <td>0.003906</td>\n",
       "      <td>0.000000</td>\n",
       "      <td>0.021484</td>\n",
       "      <td>0.078125</td>\n",
       "      <td>0.003906</td>\n",
       "      <td>0.007812</td>\n",
       "      <td>0.0</td>\n",
       "      <td>0.003906</td>\n",
       "      <td>...</td>\n",
       "      <td>0.004883</td>\n",
       "      <td>0.000977</td>\n",
       "      <td>0.004883</td>\n",
       "      <td>0.027344</td>\n",
       "      <td>0.016602</td>\n",
       "      <td>0.007812</td>\n",
       "      <td>0.000000</td>\n",
       "      <td>0.027344</td>\n",
       "      <td>0.000000</td>\n",
       "      <td>0.001953</td>\n",
       "    </tr>\n",
       "    <tr>\n",
       "      <th>988</th>\n",
       "      <td>Quercus_Rubra</td>\n",
       "      <td>0.000000</td>\n",
       "      <td>0.000000</td>\n",
       "      <td>0.046875</td>\n",
       "      <td>0.056641</td>\n",
       "      <td>0.009766</td>\n",
       "      <td>0.000000</td>\n",
       "      <td>0.000000</td>\n",
       "      <td>0.0</td>\n",
       "      <td>0.037109</td>\n",
       "      <td>...</td>\n",
       "      <td>0.083008</td>\n",
       "      <td>0.030273</td>\n",
       "      <td>0.000977</td>\n",
       "      <td>0.002930</td>\n",
       "      <td>0.014648</td>\n",
       "      <td>0.000000</td>\n",
       "      <td>0.041992</td>\n",
       "      <td>0.000000</td>\n",
       "      <td>0.001953</td>\n",
       "      <td>0.002930</td>\n",
       "    </tr>\n",
       "    <tr>\n",
       "      <th>989</th>\n",
       "      <td>Quercus_Afares</td>\n",
       "      <td>0.023438</td>\n",
       "      <td>0.019531</td>\n",
       "      <td>0.031250</td>\n",
       "      <td>0.015625</td>\n",
       "      <td>0.005859</td>\n",
       "      <td>0.019531</td>\n",
       "      <td>0.035156</td>\n",
       "      <td>0.0</td>\n",
       "      <td>0.003906</td>\n",
       "      <td>...</td>\n",
       "      <td>0.000000</td>\n",
       "      <td>0.000000</td>\n",
       "      <td>0.002930</td>\n",
       "      <td>0.000000</td>\n",
       "      <td>0.012695</td>\n",
       "      <td>0.000000</td>\n",
       "      <td>0.000000</td>\n",
       "      <td>0.023438</td>\n",
       "      <td>0.025391</td>\n",
       "      <td>0.022461</td>\n",
       "    </tr>\n",
       "  </tbody>\n",
       "</table>\n",
       "<p>990 rows × 130 columns</p>\n",
       "</div>"
      ],
      "text/plain": [
       "                   species   margin1   margin2   margin3   margin4   margin5  \\\n",
       "0              Acer_Opalus  0.007812  0.023438  0.023438  0.003906  0.011719   \n",
       "1    Pterocarya_Stenoptera  0.005859  0.000000  0.031250  0.015625  0.025391   \n",
       "2     Quercus_Hartwissiana  0.005859  0.009766  0.019531  0.007812  0.003906   \n",
       "3          Tilia_Tomentosa  0.000000  0.003906  0.023438  0.005859  0.021484   \n",
       "4       Quercus_Variabilis  0.005859  0.003906  0.048828  0.009766  0.013672   \n",
       "..                     ...       ...       ...       ...       ...       ...   \n",
       "985   Magnolia_Salicifolia  0.060547  0.119140  0.007812  0.003906  0.000000   \n",
       "986            Acer_Pictum  0.001953  0.003906  0.021484  0.107420  0.001953   \n",
       "987     Alnus_Maximowiczii  0.001953  0.003906  0.000000  0.021484  0.078125   \n",
       "988          Quercus_Rubra  0.000000  0.000000  0.046875  0.056641  0.009766   \n",
       "989         Quercus_Afares  0.023438  0.019531  0.031250  0.015625  0.005859   \n",
       "\n",
       "      margin6   margin7  margin8   margin9  ...  texture55  texture56  \\\n",
       "0    0.009766  0.027344      0.0  0.001953  ...   0.007812   0.000000   \n",
       "1    0.001953  0.019531      0.0  0.000000  ...   0.000977   0.000000   \n",
       "2    0.005859  0.068359      0.0  0.000000  ...   0.154300   0.000000   \n",
       "3    0.019531  0.023438      0.0  0.013672  ...   0.000000   0.000977   \n",
       "4    0.015625  0.005859      0.0  0.000000  ...   0.096680   0.000000   \n",
       "..        ...       ...      ...       ...  ...        ...        ...   \n",
       "985  0.148440  0.017578      0.0  0.001953  ...   0.242190   0.000000   \n",
       "986  0.000000  0.000000      0.0  0.029297  ...   0.170900   0.000000   \n",
       "987  0.003906  0.007812      0.0  0.003906  ...   0.004883   0.000977   \n",
       "988  0.000000  0.000000      0.0  0.037109  ...   0.083008   0.030273   \n",
       "989  0.019531  0.035156      0.0  0.003906  ...   0.000000   0.000000   \n",
       "\n",
       "     texture57  texture58  texture59  texture60  texture61  texture62  \\\n",
       "0     0.002930   0.002930   0.035156   0.000000   0.000000   0.004883   \n",
       "1     0.000000   0.000977   0.023438   0.000000   0.000000   0.000977   \n",
       "2     0.005859   0.000977   0.007812   0.000000   0.000000   0.000000   \n",
       "3     0.000000   0.000000   0.020508   0.000000   0.000000   0.017578   \n",
       "4     0.021484   0.000000   0.000000   0.000000   0.000000   0.000000   \n",
       "..         ...        ...        ...        ...        ...        ...   \n",
       "985   0.034180   0.000000   0.010742   0.000000   0.000000   0.000000   \n",
       "986   0.018555   0.000000   0.011719   0.000000   0.000000   0.000977   \n",
       "987   0.004883   0.027344   0.016602   0.007812   0.000000   0.027344   \n",
       "988   0.000977   0.002930   0.014648   0.000000   0.041992   0.000000   \n",
       "989   0.002930   0.000000   0.012695   0.000000   0.000000   0.023438   \n",
       "\n",
       "     texture63  texture64  \n",
       "0     0.000000   0.025391  \n",
       "1     0.039062   0.022461  \n",
       "2     0.020508   0.002930  \n",
       "3     0.000000   0.047852  \n",
       "4     0.000000   0.031250  \n",
       "..         ...        ...  \n",
       "985   0.000000   0.018555  \n",
       "986   0.000000   0.021484  \n",
       "987   0.000000   0.001953  \n",
       "988   0.001953   0.002930  \n",
       "989   0.025391   0.022461  \n",
       "\n",
       "[990 rows x 130 columns]"
      ]
     },
     "execution_count": 24,
     "metadata": {},
     "output_type": "execute_result"
    }
   ],
   "source": [
    "data1"
   ]
  },
  {
   "cell_type": "code",
   "execution_count": 25,
   "id": "threaded-order",
   "metadata": {},
   "outputs": [
    {
     "data": {
      "text/plain": [
       "(990, 130)"
      ]
     },
     "execution_count": 25,
     "metadata": {},
     "output_type": "execute_result"
    }
   ],
   "source": [
    "data1.shape"
   ]
  },
  {
   "cell_type": "markdown",
   "id": "sensitive-orleans",
   "metadata": {},
   "source": [
    "As it is illustrated, the number of features is reduced to 130. It means 192-130= 62 features are corresponds to others, and therefore, we can drop them."
   ]
  },
  {
   "cell_type": "markdown",
   "id": "thick-cooperative",
   "metadata": {},
   "source": [
    "### How to handle this skewness of data?"
   ]
  },
  {
   "cell_type": "markdown",
   "id": "vital-deputy",
   "metadata": {},
   "source": [
    "One way to deal with skewed data is to use log transformation. To do that I can use the **apply** method in pandas. "
   ]
  },
  {
   "cell_type": "markdown",
   "id": "conscious-washington",
   "metadata": {},
   "source": [
    "The second way is to use normalization with min_max method."
   ]
  },
  {
   "cell_type": "markdown",
   "id": "enabling-performer",
   "metadata": {},
   "source": [
    "# Data Cleaning "
   ]
  },
  {
   "cell_type": "markdown",
   "id": "forced-experience",
   "metadata": {},
   "source": [
    "Since the train and test sets have been already separated, in order to evaluate performance of the algorithms and to regularize them I first divide the dataset into train set and validation set."
   ]
  },
  {
   "cell_type": "markdown",
   "id": "rural-ultimate",
   "metadata": {},
   "source": [
    "# Choosing train and test"
   ]
  },
  {
   "cell_type": "markdown",
   "id": "smaller-lotus",
   "metadata": {},
   "source": [
    "Since there are 990 samples and each of the classes repeated 10 times, to have a good sample the best is to divide into train and validation set in a way that proportion of samples belonging to each class remains the same in both of the train and val sets."
   ]
  },
  {
   "cell_type": "code",
   "execution_count": 26,
   "id": "inappropriate-norway",
   "metadata": {},
   "outputs": [],
   "source": [
    "X_train = data1.iloc[:,1:]"
   ]
  },
  {
   "cell_type": "code",
   "execution_count": 27,
   "id": "spanish-christian",
   "metadata": {},
   "outputs": [],
   "source": [
    "y_train = data1.iloc[:,0]"
   ]
  },
  {
   "cell_type": "code",
   "execution_count": 26,
   "id": "personalized-failing",
   "metadata": {},
   "outputs": [],
   "source": [
    "from sklearn.model_selection import StratifiedShuffleSplit\n",
    "split = StratifiedShuffleSplit(n_splits=1, test_size=0.2, random_state=42) \n",
    "for train_index, test_index in split.split(data1, data1[\"species\"]):\n",
    "        train = data1.loc[train_index]\n",
    "        val = data1.loc[test_index]"
   ]
  },
  {
   "cell_type": "code",
   "execution_count": 27,
   "id": "exotic-politics",
   "metadata": {},
   "outputs": [
    {
     "data": {
      "text/plain": [
       "Prunus_X_Shmittii        8\n",
       "Eucalyptus_Neglecta      8\n",
       "Quercus_Trojana          8\n",
       "Quercus_Ilex             8\n",
       "Quercus_Imbricaria       8\n",
       "                        ..\n",
       "Acer_Saccharinum         8\n",
       "Quercus_Greggii          8\n",
       "Quercus_Pontica          8\n",
       "Pterocarya_Stenoptera    8\n",
       "Betula_Pendula           8\n",
       "Name: species, Length: 99, dtype: int64"
      ]
     },
     "execution_count": 27,
     "metadata": {},
     "output_type": "execute_result"
    }
   ],
   "source": [
    "train[\"species\"].value_counts()"
   ]
  },
  {
   "cell_type": "code",
   "execution_count": 28,
   "id": "opposed-baker",
   "metadata": {},
   "outputs": [
    {
     "data": {
      "text/plain": [
       "Prunus_X_Shmittii               2\n",
       "Eucalyptus_Neglecta             2\n",
       "Quercus_Trojana                 2\n",
       "Quercus_Ilex                    2\n",
       "Quercus_Imbricaria              2\n",
       "                               ..\n",
       "Quercus_Coccifera               2\n",
       "Viburnum_x_Rhytidophylloides    2\n",
       "Acer_Circinatum                 2\n",
       "Acer_Capillipes                 2\n",
       "Betula_Pendula                  2\n",
       "Name: species, Length: 99, dtype: int64"
      ]
     },
     "execution_count": 28,
     "metadata": {},
     "output_type": "execute_result"
    }
   ],
   "source": [
    "val[\"species\"].value_counts()"
   ]
  },
  {
   "cell_type": "code",
   "execution_count": 29,
   "id": "numeric-score",
   "metadata": {},
   "outputs": [],
   "source": [
    "X_train , y_train = train.iloc[:,1:], train.iloc[:,0]\n",
    "X_val , y_val = val.iloc[:,1:] , val.iloc[:,0]"
   ]
  },
  {
   "cell_type": "code",
   "execution_count": 30,
   "id": "curious-edgar",
   "metadata": {},
   "outputs": [
    {
     "data": {
      "text/html": [
       "<div>\n",
       "<style scoped>\n",
       "    .dataframe tbody tr th:only-of-type {\n",
       "        vertical-align: middle;\n",
       "    }\n",
       "\n",
       "    .dataframe tbody tr th {\n",
       "        vertical-align: top;\n",
       "    }\n",
       "\n",
       "    .dataframe thead th {\n",
       "        text-align: right;\n",
       "    }\n",
       "</style>\n",
       "<table border=\"1\" class=\"dataframe\">\n",
       "  <thead>\n",
       "    <tr style=\"text-align: right;\">\n",
       "      <th></th>\n",
       "      <th>margin1</th>\n",
       "      <th>margin2</th>\n",
       "      <th>margin3</th>\n",
       "      <th>margin4</th>\n",
       "      <th>margin5</th>\n",
       "      <th>margin6</th>\n",
       "      <th>margin7</th>\n",
       "      <th>margin8</th>\n",
       "      <th>margin9</th>\n",
       "      <th>margin10</th>\n",
       "      <th>...</th>\n",
       "      <th>texture55</th>\n",
       "      <th>texture56</th>\n",
       "      <th>texture57</th>\n",
       "      <th>texture58</th>\n",
       "      <th>texture59</th>\n",
       "      <th>texture60</th>\n",
       "      <th>texture61</th>\n",
       "      <th>texture62</th>\n",
       "      <th>texture63</th>\n",
       "      <th>texture64</th>\n",
       "    </tr>\n",
       "  </thead>\n",
       "  <tbody>\n",
       "    <tr>\n",
       "      <th>207</th>\n",
       "      <td>0.000000</td>\n",
       "      <td>0.000000</td>\n",
       "      <td>0.070312</td>\n",
       "      <td>0.136720</td>\n",
       "      <td>0.005859</td>\n",
       "      <td>0.000000</td>\n",
       "      <td>0.000000</td>\n",
       "      <td>0.000000</td>\n",
       "      <td>0.001953</td>\n",
       "      <td>0.000000</td>\n",
       "      <td>...</td>\n",
       "      <td>0.038086</td>\n",
       "      <td>0.000000</td>\n",
       "      <td>0.002930</td>\n",
       "      <td>0.000000</td>\n",
       "      <td>0.017578</td>\n",
       "      <td>0.0</td>\n",
       "      <td>0.000000</td>\n",
       "      <td>0.000977</td>\n",
       "      <td>0.000977</td>\n",
       "      <td>0.000977</td>\n",
       "    </tr>\n",
       "    <tr>\n",
       "      <th>252</th>\n",
       "      <td>0.003906</td>\n",
       "      <td>0.001953</td>\n",
       "      <td>0.058594</td>\n",
       "      <td>0.048828</td>\n",
       "      <td>0.005859</td>\n",
       "      <td>0.017578</td>\n",
       "      <td>0.000000</td>\n",
       "      <td>0.000000</td>\n",
       "      <td>0.048828</td>\n",
       "      <td>0.000000</td>\n",
       "      <td>...</td>\n",
       "      <td>0.175780</td>\n",
       "      <td>0.000977</td>\n",
       "      <td>0.005859</td>\n",
       "      <td>0.000000</td>\n",
       "      <td>0.006836</td>\n",
       "      <td>0.0</td>\n",
       "      <td>0.010742</td>\n",
       "      <td>0.000000</td>\n",
       "      <td>0.011719</td>\n",
       "      <td>0.000000</td>\n",
       "    </tr>\n",
       "    <tr>\n",
       "      <th>10</th>\n",
       "      <td>0.019531</td>\n",
       "      <td>0.031250</td>\n",
       "      <td>0.001953</td>\n",
       "      <td>0.005859</td>\n",
       "      <td>0.003906</td>\n",
       "      <td>0.013672</td>\n",
       "      <td>0.033203</td>\n",
       "      <td>0.000000</td>\n",
       "      <td>0.011719</td>\n",
       "      <td>0.042969</td>\n",
       "      <td>...</td>\n",
       "      <td>0.009766</td>\n",
       "      <td>0.000000</td>\n",
       "      <td>0.000000</td>\n",
       "      <td>0.002930</td>\n",
       "      <td>0.024414</td>\n",
       "      <td>0.0</td>\n",
       "      <td>0.000000</td>\n",
       "      <td>0.006836</td>\n",
       "      <td>0.000000</td>\n",
       "      <td>0.004883</td>\n",
       "    </tr>\n",
       "    <tr>\n",
       "      <th>865</th>\n",
       "      <td>0.052734</td>\n",
       "      <td>0.140630</td>\n",
       "      <td>0.000000</td>\n",
       "      <td>0.003906</td>\n",
       "      <td>0.000000</td>\n",
       "      <td>0.117190</td>\n",
       "      <td>0.013672</td>\n",
       "      <td>0.000000</td>\n",
       "      <td>0.007812</td>\n",
       "      <td>0.029297</td>\n",
       "      <td>...</td>\n",
       "      <td>0.022461</td>\n",
       "      <td>0.000000</td>\n",
       "      <td>0.002930</td>\n",
       "      <td>0.000000</td>\n",
       "      <td>0.003906</td>\n",
       "      <td>0.0</td>\n",
       "      <td>0.000000</td>\n",
       "      <td>0.009766</td>\n",
       "      <td>0.002930</td>\n",
       "      <td>0.000000</td>\n",
       "    </tr>\n",
       "    <tr>\n",
       "      <th>497</th>\n",
       "      <td>0.009766</td>\n",
       "      <td>0.031250</td>\n",
       "      <td>0.072266</td>\n",
       "      <td>0.005859</td>\n",
       "      <td>0.017578</td>\n",
       "      <td>0.042969</td>\n",
       "      <td>0.041016</td>\n",
       "      <td>0.005859</td>\n",
       "      <td>0.000000</td>\n",
       "      <td>0.013672</td>\n",
       "      <td>...</td>\n",
       "      <td>0.117190</td>\n",
       "      <td>0.000000</td>\n",
       "      <td>0.000977</td>\n",
       "      <td>0.000000</td>\n",
       "      <td>0.000000</td>\n",
       "      <td>0.0</td>\n",
       "      <td>0.000000</td>\n",
       "      <td>0.000000</td>\n",
       "      <td>0.000000</td>\n",
       "      <td>0.003906</td>\n",
       "    </tr>\n",
       "    <tr>\n",
       "      <th>...</th>\n",
       "      <td>...</td>\n",
       "      <td>...</td>\n",
       "      <td>...</td>\n",
       "      <td>...</td>\n",
       "      <td>...</td>\n",
       "      <td>...</td>\n",
       "      <td>...</td>\n",
       "      <td>...</td>\n",
       "      <td>...</td>\n",
       "      <td>...</td>\n",
       "      <td>...</td>\n",
       "      <td>...</td>\n",
       "      <td>...</td>\n",
       "      <td>...</td>\n",
       "      <td>...</td>\n",
       "      <td>...</td>\n",
       "      <td>...</td>\n",
       "      <td>...</td>\n",
       "      <td>...</td>\n",
       "      <td>...</td>\n",
       "      <td>...</td>\n",
       "    </tr>\n",
       "    <tr>\n",
       "      <th>323</th>\n",
       "      <td>0.039062</td>\n",
       "      <td>0.042969</td>\n",
       "      <td>0.021484</td>\n",
       "      <td>0.009766</td>\n",
       "      <td>0.003906</td>\n",
       "      <td>0.130860</td>\n",
       "      <td>0.015625</td>\n",
       "      <td>0.000000</td>\n",
       "      <td>0.005859</td>\n",
       "      <td>0.048828</td>\n",
       "      <td>...</td>\n",
       "      <td>0.000000</td>\n",
       "      <td>0.000000</td>\n",
       "      <td>0.050781</td>\n",
       "      <td>0.000977</td>\n",
       "      <td>0.029297</td>\n",
       "      <td>0.0</td>\n",
       "      <td>0.000000</td>\n",
       "      <td>0.000977</td>\n",
       "      <td>0.034180</td>\n",
       "      <td>0.024414</td>\n",
       "    </tr>\n",
       "    <tr>\n",
       "      <th>829</th>\n",
       "      <td>0.015625</td>\n",
       "      <td>0.005859</td>\n",
       "      <td>0.031250</td>\n",
       "      <td>0.033203</td>\n",
       "      <td>0.007812</td>\n",
       "      <td>0.009766</td>\n",
       "      <td>0.041016</td>\n",
       "      <td>0.003906</td>\n",
       "      <td>0.000000</td>\n",
       "      <td>0.017578</td>\n",
       "      <td>...</td>\n",
       "      <td>0.041016</td>\n",
       "      <td>0.000000</td>\n",
       "      <td>0.059570</td>\n",
       "      <td>0.000000</td>\n",
       "      <td>0.000977</td>\n",
       "      <td>0.0</td>\n",
       "      <td>0.000000</td>\n",
       "      <td>0.000000</td>\n",
       "      <td>0.018555</td>\n",
       "      <td>0.030273</td>\n",
       "    </tr>\n",
       "    <tr>\n",
       "      <th>528</th>\n",
       "      <td>0.000000</td>\n",
       "      <td>0.000000</td>\n",
       "      <td>0.031250</td>\n",
       "      <td>0.005859</td>\n",
       "      <td>0.054688</td>\n",
       "      <td>0.000000</td>\n",
       "      <td>0.005859</td>\n",
       "      <td>0.000000</td>\n",
       "      <td>0.009766</td>\n",
       "      <td>0.003906</td>\n",
       "      <td>...</td>\n",
       "      <td>0.039062</td>\n",
       "      <td>0.039062</td>\n",
       "      <td>0.007812</td>\n",
       "      <td>0.009766</td>\n",
       "      <td>0.019531</td>\n",
       "      <td>0.0</td>\n",
       "      <td>0.000000</td>\n",
       "      <td>0.029297</td>\n",
       "      <td>0.002930</td>\n",
       "      <td>0.012695</td>\n",
       "    </tr>\n",
       "    <tr>\n",
       "      <th>344</th>\n",
       "      <td>0.000000</td>\n",
       "      <td>0.000000</td>\n",
       "      <td>0.070312</td>\n",
       "      <td>0.160160</td>\n",
       "      <td>0.007812</td>\n",
       "      <td>0.000000</td>\n",
       "      <td>0.000000</td>\n",
       "      <td>0.000000</td>\n",
       "      <td>0.011719</td>\n",
       "      <td>0.000000</td>\n",
       "      <td>...</td>\n",
       "      <td>0.089844</td>\n",
       "      <td>0.000000</td>\n",
       "      <td>0.002930</td>\n",
       "      <td>0.001953</td>\n",
       "      <td>0.017578</td>\n",
       "      <td>0.0</td>\n",
       "      <td>0.026367</td>\n",
       "      <td>0.017578</td>\n",
       "      <td>0.003906</td>\n",
       "      <td>0.015625</td>\n",
       "    </tr>\n",
       "    <tr>\n",
       "      <th>880</th>\n",
       "      <td>0.017578</td>\n",
       "      <td>0.005859</td>\n",
       "      <td>0.001953</td>\n",
       "      <td>0.000000</td>\n",
       "      <td>0.015625</td>\n",
       "      <td>0.037109</td>\n",
       "      <td>0.048828</td>\n",
       "      <td>0.000000</td>\n",
       "      <td>0.009766</td>\n",
       "      <td>0.027344</td>\n",
       "      <td>...</td>\n",
       "      <td>0.153320</td>\n",
       "      <td>0.000000</td>\n",
       "      <td>0.031250</td>\n",
       "      <td>0.000000</td>\n",
       "      <td>0.013672</td>\n",
       "      <td>0.0</td>\n",
       "      <td>0.000000</td>\n",
       "      <td>0.000000</td>\n",
       "      <td>0.000000</td>\n",
       "      <td>0.013672</td>\n",
       "    </tr>\n",
       "  </tbody>\n",
       "</table>\n",
       "<p>792 rows × 129 columns</p>\n",
       "</div>"
      ],
      "text/plain": [
       "      margin1   margin2   margin3   margin4   margin5   margin6   margin7  \\\n",
       "207  0.000000  0.000000  0.070312  0.136720  0.005859  0.000000  0.000000   \n",
       "252  0.003906  0.001953  0.058594  0.048828  0.005859  0.017578  0.000000   \n",
       "10   0.019531  0.031250  0.001953  0.005859  0.003906  0.013672  0.033203   \n",
       "865  0.052734  0.140630  0.000000  0.003906  0.000000  0.117190  0.013672   \n",
       "497  0.009766  0.031250  0.072266  0.005859  0.017578  0.042969  0.041016   \n",
       "..        ...       ...       ...       ...       ...       ...       ...   \n",
       "323  0.039062  0.042969  0.021484  0.009766  0.003906  0.130860  0.015625   \n",
       "829  0.015625  0.005859  0.031250  0.033203  0.007812  0.009766  0.041016   \n",
       "528  0.000000  0.000000  0.031250  0.005859  0.054688  0.000000  0.005859   \n",
       "344  0.000000  0.000000  0.070312  0.160160  0.007812  0.000000  0.000000   \n",
       "880  0.017578  0.005859  0.001953  0.000000  0.015625  0.037109  0.048828   \n",
       "\n",
       "      margin8   margin9  margin10  ...  texture55  texture56  texture57  \\\n",
       "207  0.000000  0.001953  0.000000  ...   0.038086   0.000000   0.002930   \n",
       "252  0.000000  0.048828  0.000000  ...   0.175780   0.000977   0.005859   \n",
       "10   0.000000  0.011719  0.042969  ...   0.009766   0.000000   0.000000   \n",
       "865  0.000000  0.007812  0.029297  ...   0.022461   0.000000   0.002930   \n",
       "497  0.005859  0.000000  0.013672  ...   0.117190   0.000000   0.000977   \n",
       "..        ...       ...       ...  ...        ...        ...        ...   \n",
       "323  0.000000  0.005859  0.048828  ...   0.000000   0.000000   0.050781   \n",
       "829  0.003906  0.000000  0.017578  ...   0.041016   0.000000   0.059570   \n",
       "528  0.000000  0.009766  0.003906  ...   0.039062   0.039062   0.007812   \n",
       "344  0.000000  0.011719  0.000000  ...   0.089844   0.000000   0.002930   \n",
       "880  0.000000  0.009766  0.027344  ...   0.153320   0.000000   0.031250   \n",
       "\n",
       "     texture58  texture59  texture60  texture61  texture62  texture63  \\\n",
       "207   0.000000   0.017578        0.0   0.000000   0.000977   0.000977   \n",
       "252   0.000000   0.006836        0.0   0.010742   0.000000   0.011719   \n",
       "10    0.002930   0.024414        0.0   0.000000   0.006836   0.000000   \n",
       "865   0.000000   0.003906        0.0   0.000000   0.009766   0.002930   \n",
       "497   0.000000   0.000000        0.0   0.000000   0.000000   0.000000   \n",
       "..         ...        ...        ...        ...        ...        ...   \n",
       "323   0.000977   0.029297        0.0   0.000000   0.000977   0.034180   \n",
       "829   0.000000   0.000977        0.0   0.000000   0.000000   0.018555   \n",
       "528   0.009766   0.019531        0.0   0.000000   0.029297   0.002930   \n",
       "344   0.001953   0.017578        0.0   0.026367   0.017578   0.003906   \n",
       "880   0.000000   0.013672        0.0   0.000000   0.000000   0.000000   \n",
       "\n",
       "     texture64  \n",
       "207   0.000977  \n",
       "252   0.000000  \n",
       "10    0.004883  \n",
       "865   0.000000  \n",
       "497   0.003906  \n",
       "..         ...  \n",
       "323   0.024414  \n",
       "829   0.030273  \n",
       "528   0.012695  \n",
       "344   0.015625  \n",
       "880   0.013672  \n",
       "\n",
       "[792 rows x 129 columns]"
      ]
     },
     "execution_count": 30,
     "metadata": {},
     "output_type": "execute_result"
    }
   ],
   "source": [
    "X_train"
   ]
  },
  {
   "cell_type": "markdown",
   "id": "molecular-lightweight",
   "metadata": {},
   "source": [
    "## Standardization of Data to make variance and mean the same for all features"
   ]
  },
  {
   "cell_type": "code",
   "execution_count": 31,
   "id": "senior-settlement",
   "metadata": {},
   "outputs": [
    {
     "data": {
      "text/plain": [
       "margin1      0.000377\n",
       "margin2      0.001522\n",
       "margin3      0.000653\n",
       "margin4      0.000842\n",
       "margin5      0.000349\n",
       "               ...   \n",
       "texture60    0.003228\n",
       "texture61    0.000137\n",
       "texture62    0.001501\n",
       "texture63    0.000189\n",
       "texture64    0.000521\n",
       "Length: 129, dtype: float64"
      ]
     },
     "execution_count": 31,
     "metadata": {},
     "output_type": "execute_result"
    }
   ],
   "source": [
    "X_train.var()"
   ]
  },
  {
   "cell_type": "code",
   "execution_count": 32,
   "id": "sorted-shade",
   "metadata": {},
   "outputs": [
    {
     "data": {
      "text/plain": [
       "margin1      0.017117\n",
       "margin2      0.028626\n",
       "margin3      0.031669\n",
       "margin4      0.023393\n",
       "margin5      0.014239\n",
       "               ...   \n",
       "texture60    0.013245\n",
       "texture61    0.002746\n",
       "texture62    0.020210\n",
       "texture63    0.009036\n",
       "texture64    0.019609\n",
       "Length: 129, dtype: float64"
      ]
     },
     "execution_count": 32,
     "metadata": {},
     "output_type": "execute_result"
    }
   ],
   "source": [
    "X_train.mean()"
   ]
  },
  {
   "cell_type": "markdown",
   "id": "rational-movie",
   "metadata": {},
   "source": [
    "Now first problem with this data is that the variances of the attributes are different, and they are also centered around different values. So one possibility to solve this issue is to standardize the data (subtracting by mean and deviding by standard deviation)."
   ]
  },
  {
   "cell_type": "code",
   "execution_count": 33,
   "id": "expanded-joining",
   "metadata": {},
   "outputs": [],
   "source": [
    "from sklearn.preprocessing import StandardScaler\n",
    "ss = StandardScaler()\n",
    "_= ss.fit(X_train)\n",
    "X_train_standard = pd.DataFrame(ss.transform(X_train) , columns = X_train.columns)"
   ]
  },
  {
   "cell_type": "code",
   "execution_count": 34,
   "id": "square-infrastructure",
   "metadata": {},
   "outputs": [
    {
     "data": {
      "text/plain": [
       "1.307992769854673"
      ]
     },
     "execution_count": 34,
     "metadata": {},
     "output_type": "execute_result"
    }
   ],
   "source": [
    "X_train_standard['margin1'].skew()"
   ]
  },
  {
   "cell_type": "code",
   "execution_count": 35,
   "id": "declared-cooler",
   "metadata": {},
   "outputs": [
    {
     "data": {
      "text/plain": [
       "1.307992769854673"
      ]
     },
     "execution_count": 35,
     "metadata": {},
     "output_type": "execute_result"
    }
   ],
   "source": [
    "X_train['margin1'].skew()"
   ]
  },
  {
   "cell_type": "markdown",
   "id": "composed-calculation",
   "metadata": {},
   "source": [
    "Note that standardization does not change skewness of data!"
   ]
  },
  {
   "cell_type": "markdown",
   "id": "thorough-salem",
   "metadata": {},
   "source": [
    "To find the best way to normalize our data, we use three different methods and evaluate the skewness fator after implementing each one on the data.Especially, we are using:\n",
    "   - power transformer(yeo-johnson)\n",
    "   - power transformer(Box-Cox)\n",
    "   - log transformation"
   ]
  },
  {
   "cell_type": "markdown",
   "id": "surprising-swaziland",
   "metadata": {},
   "source": [
    "### Another method in order to make the data more normal is to use non-linear transformers like log-transformation and power transformer (yeo-johnson method)."
   ]
  },
  {
   "cell_type": "code",
   "execution_count": 36,
   "id": "green-camera",
   "metadata": {},
   "outputs": [],
   "source": [
    "from sklearn.preprocessing import PowerTransformer\n",
    "pt = PowerTransformer()\n",
    "X_train_pt = pd.DataFrame(pt.fit_transform(X_train_standard), columns = X_train.columns)"
   ]
  },
  {
   "cell_type": "code",
   "execution_count": 37,
   "id": "conscious-monitor",
   "metadata": {},
   "outputs": [
    {
     "data": {
      "text/plain": [
       "0.2944553048839115"
      ]
     },
     "execution_count": 37,
     "metadata": {},
     "output_type": "execute_result"
    }
   ],
   "source": [
    "X_train_pt['margin1'].skew()"
   ]
  },
  {
   "cell_type": "markdown",
   "id": "behavioral-animation",
   "metadata": {},
   "source": [
    "Now it is much more normal! and it is possible to use if after standardscaler."
   ]
  },
  {
   "cell_type": "markdown",
   "id": "dynamic-tyler",
   "metadata": {},
   "source": [
    "## PowerTransformer Box-Cox"
   ]
  },
  {
   "cell_type": "markdown",
   "id": "threaded-algebra",
   "metadata": {},
   "source": [
    "In order to use Box-Cox method, the data should be strictly positive.So I will use MinmaxScaler to make the data positive, then if it was necessary, I will replace zero's with a very small value."
   ]
  },
  {
   "cell_type": "code",
   "execution_count": 38,
   "id": "governing-harmony",
   "metadata": {},
   "outputs": [],
   "source": [
    "from sklearn.preprocessing import MinMaxScaler\n",
    "mms = MinMaxScaler()\n",
    "X_train_mms = pd.DataFrame(mms.fit_transform(X_train_standard), columns = X_train.columns)"
   ]
  },
  {
   "cell_type": "code",
   "execution_count": 39,
   "id": "coral-europe",
   "metadata": {},
   "outputs": [
    {
     "data": {
      "text/html": [
       "<div>\n",
       "<style scoped>\n",
       "    .dataframe tbody tr th:only-of-type {\n",
       "        vertical-align: middle;\n",
       "    }\n",
       "\n",
       "    .dataframe tbody tr th {\n",
       "        vertical-align: top;\n",
       "    }\n",
       "\n",
       "    .dataframe thead th {\n",
       "        text-align: right;\n",
       "    }\n",
       "</style>\n",
       "<table border=\"1\" class=\"dataframe\">\n",
       "  <thead>\n",
       "    <tr style=\"text-align: right;\">\n",
       "      <th></th>\n",
       "      <th>margin1</th>\n",
       "      <th>margin2</th>\n",
       "      <th>margin3</th>\n",
       "      <th>margin4</th>\n",
       "      <th>margin5</th>\n",
       "      <th>margin6</th>\n",
       "      <th>margin7</th>\n",
       "      <th>margin8</th>\n",
       "      <th>margin9</th>\n",
       "      <th>margin10</th>\n",
       "      <th>...</th>\n",
       "      <th>texture55</th>\n",
       "      <th>texture56</th>\n",
       "      <th>texture57</th>\n",
       "      <th>texture58</th>\n",
       "      <th>texture59</th>\n",
       "      <th>texture60</th>\n",
       "      <th>texture61</th>\n",
       "      <th>texture62</th>\n",
       "      <th>texture63</th>\n",
       "      <th>texture64</th>\n",
       "    </tr>\n",
       "  </thead>\n",
       "  <tbody>\n",
       "    <tr>\n",
       "      <th>0</th>\n",
       "      <td>0.000000</td>\n",
       "      <td>0.000000</td>\n",
       "      <td>0.545435</td>\n",
       "      <td>0.804614</td>\n",
       "      <td>0.052627</td>\n",
       "      <td>0.000000</td>\n",
       "      <td>0.000000</td>\n",
       "      <td>0.000000</td>\n",
       "      <td>0.029410</td>\n",
       "      <td>0.000000</td>\n",
       "      <td>...</td>\n",
       "      <td>0.088636</td>\n",
       "      <td>0.000000</td>\n",
       "      <td>0.016951</td>\n",
       "      <td>0.000000</td>\n",
       "      <td>0.165129</td>\n",
       "      <td>0.0</td>\n",
       "      <td>0.000000</td>\n",
       "      <td>0.002599</td>\n",
       "      <td>0.011241</td>\n",
       "      <td>0.008337</td>\n",
       "    </tr>\n",
       "    <tr>\n",
       "      <th>1</th>\n",
       "      <td>0.046509</td>\n",
       "      <td>0.009523</td>\n",
       "      <td>0.454534</td>\n",
       "      <td>0.287359</td>\n",
       "      <td>0.052627</td>\n",
       "      <td>0.056603</td>\n",
       "      <td>0.000000</td>\n",
       "      <td>0.000000</td>\n",
       "      <td>0.735295</td>\n",
       "      <td>0.000000</td>\n",
       "      <td>...</td>\n",
       "      <td>0.409086</td>\n",
       "      <td>0.005078</td>\n",
       "      <td>0.033896</td>\n",
       "      <td>0.000000</td>\n",
       "      <td>0.064218</td>\n",
       "      <td>0.0</td>\n",
       "      <td>0.070965</td>\n",
       "      <td>0.000000</td>\n",
       "      <td>0.134834</td>\n",
       "      <td>0.000000</td>\n",
       "    </tr>\n",
       "    <tr>\n",
       "      <th>2</th>\n",
       "      <td>0.232556</td>\n",
       "      <td>0.152380</td>\n",
       "      <td>0.015150</td>\n",
       "      <td>0.034481</td>\n",
       "      <td>0.035085</td>\n",
       "      <td>0.044025</td>\n",
       "      <td>0.361700</td>\n",
       "      <td>0.000000</td>\n",
       "      <td>0.176475</td>\n",
       "      <td>0.440004</td>\n",
       "      <td>...</td>\n",
       "      <td>0.022728</td>\n",
       "      <td>0.000000</td>\n",
       "      <td>0.000000</td>\n",
       "      <td>0.014635</td>\n",
       "      <td>0.229347</td>\n",
       "      <td>0.0</td>\n",
       "      <td>0.000000</td>\n",
       "      <td>0.018182</td>\n",
       "      <td>0.000000</td>\n",
       "      <td>0.041667</td>\n",
       "    </tr>\n",
       "    <tr>\n",
       "      <th>3</th>\n",
       "      <td>0.627905</td>\n",
       "      <td>0.685732</td>\n",
       "      <td>0.000000</td>\n",
       "      <td>0.022987</td>\n",
       "      <td>0.000000</td>\n",
       "      <td>0.377363</td>\n",
       "      <td>0.148937</td>\n",
       "      <td>0.000000</td>\n",
       "      <td>0.117640</td>\n",
       "      <td>0.300002</td>\n",
       "      <td>...</td>\n",
       "      <td>0.052273</td>\n",
       "      <td>0.000000</td>\n",
       "      <td>0.016951</td>\n",
       "      <td>0.000000</td>\n",
       "      <td>0.036693</td>\n",
       "      <td>0.0</td>\n",
       "      <td>0.000000</td>\n",
       "      <td>0.025975</td>\n",
       "      <td>0.033711</td>\n",
       "      <td>0.000000</td>\n",
       "    </tr>\n",
       "    <tr>\n",
       "      <th>4</th>\n",
       "      <td>0.116284</td>\n",
       "      <td>0.152380</td>\n",
       "      <td>0.560593</td>\n",
       "      <td>0.034481</td>\n",
       "      <td>0.157891</td>\n",
       "      <td>0.138364</td>\n",
       "      <td>0.446812</td>\n",
       "      <td>0.187488</td>\n",
       "      <td>0.000000</td>\n",
       "      <td>0.140002</td>\n",
       "      <td>...</td>\n",
       "      <td>0.272732</td>\n",
       "      <td>0.000000</td>\n",
       "      <td>0.005652</td>\n",
       "      <td>0.000000</td>\n",
       "      <td>0.000000</td>\n",
       "      <td>0.0</td>\n",
       "      <td>0.000000</td>\n",
       "      <td>0.000000</td>\n",
       "      <td>0.000000</td>\n",
       "      <td>0.033330</td>\n",
       "    </tr>\n",
       "    <tr>\n",
       "      <th>...</th>\n",
       "      <td>...</td>\n",
       "      <td>...</td>\n",
       "      <td>...</td>\n",
       "      <td>...</td>\n",
       "      <td>...</td>\n",
       "      <td>...</td>\n",
       "      <td>...</td>\n",
       "      <td>...</td>\n",
       "      <td>...</td>\n",
       "      <td>...</td>\n",
       "      <td>...</td>\n",
       "      <td>...</td>\n",
       "      <td>...</td>\n",
       "      <td>...</td>\n",
       "      <td>...</td>\n",
       "      <td>...</td>\n",
       "      <td>...</td>\n",
       "      <td>...</td>\n",
       "      <td>...</td>\n",
       "      <td>...</td>\n",
       "      <td>...</td>\n",
       "    </tr>\n",
       "    <tr>\n",
       "      <th>787</th>\n",
       "      <td>0.465112</td>\n",
       "      <td>0.209523</td>\n",
       "      <td>0.166659</td>\n",
       "      <td>0.057474</td>\n",
       "      <td>0.035085</td>\n",
       "      <td>0.421381</td>\n",
       "      <td>0.170213</td>\n",
       "      <td>0.000000</td>\n",
       "      <td>0.088230</td>\n",
       "      <td>0.500000</td>\n",
       "      <td>...</td>\n",
       "      <td>0.000000</td>\n",
       "      <td>0.000000</td>\n",
       "      <td>0.293787</td>\n",
       "      <td>0.004880</td>\n",
       "      <td>0.275218</td>\n",
       "      <td>0.0</td>\n",
       "      <td>0.000000</td>\n",
       "      <td>0.002599</td>\n",
       "      <td>0.393262</td>\n",
       "      <td>0.208328</td>\n",
       "    </tr>\n",
       "    <tr>\n",
       "      <th>788</th>\n",
       "      <td>0.186047</td>\n",
       "      <td>0.028569</td>\n",
       "      <td>0.242417</td>\n",
       "      <td>0.195404</td>\n",
       "      <td>0.070170</td>\n",
       "      <td>0.031447</td>\n",
       "      <td>0.446812</td>\n",
       "      <td>0.124992</td>\n",
       "      <td>0.000000</td>\n",
       "      <td>0.179999</td>\n",
       "      <td>...</td>\n",
       "      <td>0.095455</td>\n",
       "      <td>0.000000</td>\n",
       "      <td>0.344634</td>\n",
       "      <td>0.000000</td>\n",
       "      <td>0.009178</td>\n",
       "      <td>0.0</td>\n",
       "      <td>0.000000</td>\n",
       "      <td>0.000000</td>\n",
       "      <td>0.213487</td>\n",
       "      <td>0.258324</td>\n",
       "    </tr>\n",
       "    <tr>\n",
       "      <th>789</th>\n",
       "      <td>0.000000</td>\n",
       "      <td>0.000000</td>\n",
       "      <td>0.242417</td>\n",
       "      <td>0.034481</td>\n",
       "      <td>0.491224</td>\n",
       "      <td>0.000000</td>\n",
       "      <td>0.063826</td>\n",
       "      <td>0.000000</td>\n",
       "      <td>0.147065</td>\n",
       "      <td>0.039998</td>\n",
       "      <td>...</td>\n",
       "      <td>0.090907</td>\n",
       "      <td>0.203046</td>\n",
       "      <td>0.045195</td>\n",
       "      <td>0.048781</td>\n",
       "      <td>0.183476</td>\n",
       "      <td>0.0</td>\n",
       "      <td>0.000000</td>\n",
       "      <td>0.077922</td>\n",
       "      <td>0.033711</td>\n",
       "      <td>0.108328</td>\n",
       "    </tr>\n",
       "    <tr>\n",
       "      <th>790</th>\n",
       "      <td>0.000000</td>\n",
       "      <td>0.000000</td>\n",
       "      <td>0.545435</td>\n",
       "      <td>0.942561</td>\n",
       "      <td>0.070170</td>\n",
       "      <td>0.000000</td>\n",
       "      <td>0.000000</td>\n",
       "      <td>0.000000</td>\n",
       "      <td>0.176475</td>\n",
       "      <td>0.000000</td>\n",
       "      <td>...</td>\n",
       "      <td>0.209090</td>\n",
       "      <td>0.000000</td>\n",
       "      <td>0.016951</td>\n",
       "      <td>0.009755</td>\n",
       "      <td>0.165129</td>\n",
       "      <td>0.0</td>\n",
       "      <td>0.174189</td>\n",
       "      <td>0.046752</td>\n",
       "      <td>0.044941</td>\n",
       "      <td>0.133330</td>\n",
       "    </tr>\n",
       "    <tr>\n",
       "      <th>791</th>\n",
       "      <td>0.209302</td>\n",
       "      <td>0.028569</td>\n",
       "      <td>0.015150</td>\n",
       "      <td>0.000000</td>\n",
       "      <td>0.140349</td>\n",
       "      <td>0.119494</td>\n",
       "      <td>0.531913</td>\n",
       "      <td>0.000000</td>\n",
       "      <td>0.147065</td>\n",
       "      <td>0.280003</td>\n",
       "      <td>...</td>\n",
       "      <td>0.356815</td>\n",
       "      <td>0.000000</td>\n",
       "      <td>0.180793</td>\n",
       "      <td>0.000000</td>\n",
       "      <td>0.128436</td>\n",
       "      <td>0.0</td>\n",
       "      <td>0.000000</td>\n",
       "      <td>0.000000</td>\n",
       "      <td>0.000000</td>\n",
       "      <td>0.116665</td>\n",
       "    </tr>\n",
       "  </tbody>\n",
       "</table>\n",
       "<p>792 rows × 129 columns</p>\n",
       "</div>"
      ],
      "text/plain": [
       "      margin1   margin2   margin3   margin4   margin5   margin6   margin7  \\\n",
       "0    0.000000  0.000000  0.545435  0.804614  0.052627  0.000000  0.000000   \n",
       "1    0.046509  0.009523  0.454534  0.287359  0.052627  0.056603  0.000000   \n",
       "2    0.232556  0.152380  0.015150  0.034481  0.035085  0.044025  0.361700   \n",
       "3    0.627905  0.685732  0.000000  0.022987  0.000000  0.377363  0.148937   \n",
       "4    0.116284  0.152380  0.560593  0.034481  0.157891  0.138364  0.446812   \n",
       "..        ...       ...       ...       ...       ...       ...       ...   \n",
       "787  0.465112  0.209523  0.166659  0.057474  0.035085  0.421381  0.170213   \n",
       "788  0.186047  0.028569  0.242417  0.195404  0.070170  0.031447  0.446812   \n",
       "789  0.000000  0.000000  0.242417  0.034481  0.491224  0.000000  0.063826   \n",
       "790  0.000000  0.000000  0.545435  0.942561  0.070170  0.000000  0.000000   \n",
       "791  0.209302  0.028569  0.015150  0.000000  0.140349  0.119494  0.531913   \n",
       "\n",
       "      margin8   margin9  margin10  ...  texture55  texture56  texture57  \\\n",
       "0    0.000000  0.029410  0.000000  ...   0.088636   0.000000   0.016951   \n",
       "1    0.000000  0.735295  0.000000  ...   0.409086   0.005078   0.033896   \n",
       "2    0.000000  0.176475  0.440004  ...   0.022728   0.000000   0.000000   \n",
       "3    0.000000  0.117640  0.300002  ...   0.052273   0.000000   0.016951   \n",
       "4    0.187488  0.000000  0.140002  ...   0.272732   0.000000   0.005652   \n",
       "..        ...       ...       ...  ...        ...        ...        ...   \n",
       "787  0.000000  0.088230  0.500000  ...   0.000000   0.000000   0.293787   \n",
       "788  0.124992  0.000000  0.179999  ...   0.095455   0.000000   0.344634   \n",
       "789  0.000000  0.147065  0.039998  ...   0.090907   0.203046   0.045195   \n",
       "790  0.000000  0.176475  0.000000  ...   0.209090   0.000000   0.016951   \n",
       "791  0.000000  0.147065  0.280003  ...   0.356815   0.000000   0.180793   \n",
       "\n",
       "     texture58  texture59  texture60  texture61  texture62  texture63  \\\n",
       "0     0.000000   0.165129        0.0   0.000000   0.002599   0.011241   \n",
       "1     0.000000   0.064218        0.0   0.070965   0.000000   0.134834   \n",
       "2     0.014635   0.229347        0.0   0.000000   0.018182   0.000000   \n",
       "3     0.000000   0.036693        0.0   0.000000   0.025975   0.033711   \n",
       "4     0.000000   0.000000        0.0   0.000000   0.000000   0.000000   \n",
       "..         ...        ...        ...        ...        ...        ...   \n",
       "787   0.004880   0.275218        0.0   0.000000   0.002599   0.393262   \n",
       "788   0.000000   0.009178        0.0   0.000000   0.000000   0.213487   \n",
       "789   0.048781   0.183476        0.0   0.000000   0.077922   0.033711   \n",
       "790   0.009755   0.165129        0.0   0.174189   0.046752   0.044941   \n",
       "791   0.000000   0.128436        0.0   0.000000   0.000000   0.000000   \n",
       "\n",
       "     texture64  \n",
       "0     0.008337  \n",
       "1     0.000000  \n",
       "2     0.041667  \n",
       "3     0.000000  \n",
       "4     0.033330  \n",
       "..         ...  \n",
       "787   0.208328  \n",
       "788   0.258324  \n",
       "789   0.108328  \n",
       "790   0.133330  \n",
       "791   0.116665  \n",
       "\n",
       "[792 rows x 129 columns]"
      ]
     },
     "execution_count": 39,
     "metadata": {},
     "output_type": "execute_result"
    }
   ],
   "source": [
    "X_train_mms"
   ]
  },
  {
   "cell_type": "code",
   "execution_count": 40,
   "id": "familiar-litigation",
   "metadata": {},
   "outputs": [],
   "source": [
    "X_train_mms.replace(0, 10 ** -5 , inplace = True)"
   ]
  },
  {
   "cell_type": "code",
   "execution_count": 41,
   "id": "instant-directory",
   "metadata": {},
   "outputs": [
    {
     "data": {
      "text/html": [
       "<div>\n",
       "<style scoped>\n",
       "    .dataframe tbody tr th:only-of-type {\n",
       "        vertical-align: middle;\n",
       "    }\n",
       "\n",
       "    .dataframe tbody tr th {\n",
       "        vertical-align: top;\n",
       "    }\n",
       "\n",
       "    .dataframe thead th {\n",
       "        text-align: right;\n",
       "    }\n",
       "</style>\n",
       "<table border=\"1\" class=\"dataframe\">\n",
       "  <thead>\n",
       "    <tr style=\"text-align: right;\">\n",
       "      <th></th>\n",
       "      <th>margin1</th>\n",
       "      <th>margin2</th>\n",
       "      <th>margin3</th>\n",
       "      <th>margin4</th>\n",
       "      <th>margin5</th>\n",
       "      <th>margin6</th>\n",
       "      <th>margin7</th>\n",
       "      <th>margin8</th>\n",
       "      <th>margin9</th>\n",
       "      <th>margin10</th>\n",
       "      <th>...</th>\n",
       "      <th>texture55</th>\n",
       "      <th>texture56</th>\n",
       "      <th>texture57</th>\n",
       "      <th>texture58</th>\n",
       "      <th>texture59</th>\n",
       "      <th>texture60</th>\n",
       "      <th>texture61</th>\n",
       "      <th>texture62</th>\n",
       "      <th>texture63</th>\n",
       "      <th>texture64</th>\n",
       "    </tr>\n",
       "  </thead>\n",
       "  <tbody>\n",
       "    <tr>\n",
       "      <th>0</th>\n",
       "      <td>0.000010</td>\n",
       "      <td>0.000010</td>\n",
       "      <td>0.545435</td>\n",
       "      <td>0.804614</td>\n",
       "      <td>0.052627</td>\n",
       "      <td>0.000010</td>\n",
       "      <td>0.000010</td>\n",
       "      <td>0.000010</td>\n",
       "      <td>0.029410</td>\n",
       "      <td>0.000010</td>\n",
       "      <td>...</td>\n",
       "      <td>0.088636</td>\n",
       "      <td>0.000010</td>\n",
       "      <td>0.016951</td>\n",
       "      <td>0.000010</td>\n",
       "      <td>0.165129</td>\n",
       "      <td>0.00001</td>\n",
       "      <td>0.000010</td>\n",
       "      <td>0.002599</td>\n",
       "      <td>0.011241</td>\n",
       "      <td>0.008337</td>\n",
       "    </tr>\n",
       "    <tr>\n",
       "      <th>1</th>\n",
       "      <td>0.046509</td>\n",
       "      <td>0.009523</td>\n",
       "      <td>0.454534</td>\n",
       "      <td>0.287359</td>\n",
       "      <td>0.052627</td>\n",
       "      <td>0.056603</td>\n",
       "      <td>0.000010</td>\n",
       "      <td>0.000010</td>\n",
       "      <td>0.735295</td>\n",
       "      <td>0.000010</td>\n",
       "      <td>...</td>\n",
       "      <td>0.409086</td>\n",
       "      <td>0.005078</td>\n",
       "      <td>0.033896</td>\n",
       "      <td>0.000010</td>\n",
       "      <td>0.064218</td>\n",
       "      <td>0.00001</td>\n",
       "      <td>0.070965</td>\n",
       "      <td>0.000010</td>\n",
       "      <td>0.134834</td>\n",
       "      <td>0.000010</td>\n",
       "    </tr>\n",
       "    <tr>\n",
       "      <th>2</th>\n",
       "      <td>0.232556</td>\n",
       "      <td>0.152380</td>\n",
       "      <td>0.015150</td>\n",
       "      <td>0.034481</td>\n",
       "      <td>0.035085</td>\n",
       "      <td>0.044025</td>\n",
       "      <td>0.361700</td>\n",
       "      <td>0.000010</td>\n",
       "      <td>0.176475</td>\n",
       "      <td>0.440004</td>\n",
       "      <td>...</td>\n",
       "      <td>0.022728</td>\n",
       "      <td>0.000010</td>\n",
       "      <td>0.000010</td>\n",
       "      <td>0.014635</td>\n",
       "      <td>0.229347</td>\n",
       "      <td>0.00001</td>\n",
       "      <td>0.000010</td>\n",
       "      <td>0.018182</td>\n",
       "      <td>0.000010</td>\n",
       "      <td>0.041667</td>\n",
       "    </tr>\n",
       "    <tr>\n",
       "      <th>3</th>\n",
       "      <td>0.627905</td>\n",
       "      <td>0.685732</td>\n",
       "      <td>0.000010</td>\n",
       "      <td>0.022987</td>\n",
       "      <td>0.000010</td>\n",
       "      <td>0.377363</td>\n",
       "      <td>0.148937</td>\n",
       "      <td>0.000010</td>\n",
       "      <td>0.117640</td>\n",
       "      <td>0.300002</td>\n",
       "      <td>...</td>\n",
       "      <td>0.052273</td>\n",
       "      <td>0.000010</td>\n",
       "      <td>0.016951</td>\n",
       "      <td>0.000010</td>\n",
       "      <td>0.036693</td>\n",
       "      <td>0.00001</td>\n",
       "      <td>0.000010</td>\n",
       "      <td>0.025975</td>\n",
       "      <td>0.033711</td>\n",
       "      <td>0.000010</td>\n",
       "    </tr>\n",
       "    <tr>\n",
       "      <th>4</th>\n",
       "      <td>0.116284</td>\n",
       "      <td>0.152380</td>\n",
       "      <td>0.560593</td>\n",
       "      <td>0.034481</td>\n",
       "      <td>0.157891</td>\n",
       "      <td>0.138364</td>\n",
       "      <td>0.446812</td>\n",
       "      <td>0.187488</td>\n",
       "      <td>0.000010</td>\n",
       "      <td>0.140002</td>\n",
       "      <td>...</td>\n",
       "      <td>0.272732</td>\n",
       "      <td>0.000010</td>\n",
       "      <td>0.005652</td>\n",
       "      <td>0.000010</td>\n",
       "      <td>0.000010</td>\n",
       "      <td>0.00001</td>\n",
       "      <td>0.000010</td>\n",
       "      <td>0.000010</td>\n",
       "      <td>0.000010</td>\n",
       "      <td>0.033330</td>\n",
       "    </tr>\n",
       "    <tr>\n",
       "      <th>...</th>\n",
       "      <td>...</td>\n",
       "      <td>...</td>\n",
       "      <td>...</td>\n",
       "      <td>...</td>\n",
       "      <td>...</td>\n",
       "      <td>...</td>\n",
       "      <td>...</td>\n",
       "      <td>...</td>\n",
       "      <td>...</td>\n",
       "      <td>...</td>\n",
       "      <td>...</td>\n",
       "      <td>...</td>\n",
       "      <td>...</td>\n",
       "      <td>...</td>\n",
       "      <td>...</td>\n",
       "      <td>...</td>\n",
       "      <td>...</td>\n",
       "      <td>...</td>\n",
       "      <td>...</td>\n",
       "      <td>...</td>\n",
       "      <td>...</td>\n",
       "    </tr>\n",
       "    <tr>\n",
       "      <th>787</th>\n",
       "      <td>0.465112</td>\n",
       "      <td>0.209523</td>\n",
       "      <td>0.166659</td>\n",
       "      <td>0.057474</td>\n",
       "      <td>0.035085</td>\n",
       "      <td>0.421381</td>\n",
       "      <td>0.170213</td>\n",
       "      <td>0.000010</td>\n",
       "      <td>0.088230</td>\n",
       "      <td>0.500000</td>\n",
       "      <td>...</td>\n",
       "      <td>0.000010</td>\n",
       "      <td>0.000010</td>\n",
       "      <td>0.293787</td>\n",
       "      <td>0.004880</td>\n",
       "      <td>0.275218</td>\n",
       "      <td>0.00001</td>\n",
       "      <td>0.000010</td>\n",
       "      <td>0.002599</td>\n",
       "      <td>0.393262</td>\n",
       "      <td>0.208328</td>\n",
       "    </tr>\n",
       "    <tr>\n",
       "      <th>788</th>\n",
       "      <td>0.186047</td>\n",
       "      <td>0.028569</td>\n",
       "      <td>0.242417</td>\n",
       "      <td>0.195404</td>\n",
       "      <td>0.070170</td>\n",
       "      <td>0.031447</td>\n",
       "      <td>0.446812</td>\n",
       "      <td>0.124992</td>\n",
       "      <td>0.000010</td>\n",
       "      <td>0.179999</td>\n",
       "      <td>...</td>\n",
       "      <td>0.095455</td>\n",
       "      <td>0.000010</td>\n",
       "      <td>0.344634</td>\n",
       "      <td>0.000010</td>\n",
       "      <td>0.009178</td>\n",
       "      <td>0.00001</td>\n",
       "      <td>0.000010</td>\n",
       "      <td>0.000010</td>\n",
       "      <td>0.213487</td>\n",
       "      <td>0.258324</td>\n",
       "    </tr>\n",
       "    <tr>\n",
       "      <th>789</th>\n",
       "      <td>0.000010</td>\n",
       "      <td>0.000010</td>\n",
       "      <td>0.242417</td>\n",
       "      <td>0.034481</td>\n",
       "      <td>0.491224</td>\n",
       "      <td>0.000010</td>\n",
       "      <td>0.063826</td>\n",
       "      <td>0.000010</td>\n",
       "      <td>0.147065</td>\n",
       "      <td>0.039998</td>\n",
       "      <td>...</td>\n",
       "      <td>0.090907</td>\n",
       "      <td>0.203046</td>\n",
       "      <td>0.045195</td>\n",
       "      <td>0.048781</td>\n",
       "      <td>0.183476</td>\n",
       "      <td>0.00001</td>\n",
       "      <td>0.000010</td>\n",
       "      <td>0.077922</td>\n",
       "      <td>0.033711</td>\n",
       "      <td>0.108328</td>\n",
       "    </tr>\n",
       "    <tr>\n",
       "      <th>790</th>\n",
       "      <td>0.000010</td>\n",
       "      <td>0.000010</td>\n",
       "      <td>0.545435</td>\n",
       "      <td>0.942561</td>\n",
       "      <td>0.070170</td>\n",
       "      <td>0.000010</td>\n",
       "      <td>0.000010</td>\n",
       "      <td>0.000010</td>\n",
       "      <td>0.176475</td>\n",
       "      <td>0.000010</td>\n",
       "      <td>...</td>\n",
       "      <td>0.209090</td>\n",
       "      <td>0.000010</td>\n",
       "      <td>0.016951</td>\n",
       "      <td>0.009755</td>\n",
       "      <td>0.165129</td>\n",
       "      <td>0.00001</td>\n",
       "      <td>0.174189</td>\n",
       "      <td>0.046752</td>\n",
       "      <td>0.044941</td>\n",
       "      <td>0.133330</td>\n",
       "    </tr>\n",
       "    <tr>\n",
       "      <th>791</th>\n",
       "      <td>0.209302</td>\n",
       "      <td>0.028569</td>\n",
       "      <td>0.015150</td>\n",
       "      <td>0.000010</td>\n",
       "      <td>0.140349</td>\n",
       "      <td>0.119494</td>\n",
       "      <td>0.531913</td>\n",
       "      <td>0.000010</td>\n",
       "      <td>0.147065</td>\n",
       "      <td>0.280003</td>\n",
       "      <td>...</td>\n",
       "      <td>0.356815</td>\n",
       "      <td>0.000010</td>\n",
       "      <td>0.180793</td>\n",
       "      <td>0.000010</td>\n",
       "      <td>0.128436</td>\n",
       "      <td>0.00001</td>\n",
       "      <td>0.000010</td>\n",
       "      <td>0.000010</td>\n",
       "      <td>0.000010</td>\n",
       "      <td>0.116665</td>\n",
       "    </tr>\n",
       "  </tbody>\n",
       "</table>\n",
       "<p>792 rows × 129 columns</p>\n",
       "</div>"
      ],
      "text/plain": [
       "      margin1   margin2   margin3   margin4   margin5   margin6   margin7  \\\n",
       "0    0.000010  0.000010  0.545435  0.804614  0.052627  0.000010  0.000010   \n",
       "1    0.046509  0.009523  0.454534  0.287359  0.052627  0.056603  0.000010   \n",
       "2    0.232556  0.152380  0.015150  0.034481  0.035085  0.044025  0.361700   \n",
       "3    0.627905  0.685732  0.000010  0.022987  0.000010  0.377363  0.148937   \n",
       "4    0.116284  0.152380  0.560593  0.034481  0.157891  0.138364  0.446812   \n",
       "..        ...       ...       ...       ...       ...       ...       ...   \n",
       "787  0.465112  0.209523  0.166659  0.057474  0.035085  0.421381  0.170213   \n",
       "788  0.186047  0.028569  0.242417  0.195404  0.070170  0.031447  0.446812   \n",
       "789  0.000010  0.000010  0.242417  0.034481  0.491224  0.000010  0.063826   \n",
       "790  0.000010  0.000010  0.545435  0.942561  0.070170  0.000010  0.000010   \n",
       "791  0.209302  0.028569  0.015150  0.000010  0.140349  0.119494  0.531913   \n",
       "\n",
       "      margin8   margin9  margin10  ...  texture55  texture56  texture57  \\\n",
       "0    0.000010  0.029410  0.000010  ...   0.088636   0.000010   0.016951   \n",
       "1    0.000010  0.735295  0.000010  ...   0.409086   0.005078   0.033896   \n",
       "2    0.000010  0.176475  0.440004  ...   0.022728   0.000010   0.000010   \n",
       "3    0.000010  0.117640  0.300002  ...   0.052273   0.000010   0.016951   \n",
       "4    0.187488  0.000010  0.140002  ...   0.272732   0.000010   0.005652   \n",
       "..        ...       ...       ...  ...        ...        ...        ...   \n",
       "787  0.000010  0.088230  0.500000  ...   0.000010   0.000010   0.293787   \n",
       "788  0.124992  0.000010  0.179999  ...   0.095455   0.000010   0.344634   \n",
       "789  0.000010  0.147065  0.039998  ...   0.090907   0.203046   0.045195   \n",
       "790  0.000010  0.176475  0.000010  ...   0.209090   0.000010   0.016951   \n",
       "791  0.000010  0.147065  0.280003  ...   0.356815   0.000010   0.180793   \n",
       "\n",
       "     texture58  texture59  texture60  texture61  texture62  texture63  \\\n",
       "0     0.000010   0.165129    0.00001   0.000010   0.002599   0.011241   \n",
       "1     0.000010   0.064218    0.00001   0.070965   0.000010   0.134834   \n",
       "2     0.014635   0.229347    0.00001   0.000010   0.018182   0.000010   \n",
       "3     0.000010   0.036693    0.00001   0.000010   0.025975   0.033711   \n",
       "4     0.000010   0.000010    0.00001   0.000010   0.000010   0.000010   \n",
       "..         ...        ...        ...        ...        ...        ...   \n",
       "787   0.004880   0.275218    0.00001   0.000010   0.002599   0.393262   \n",
       "788   0.000010   0.009178    0.00001   0.000010   0.000010   0.213487   \n",
       "789   0.048781   0.183476    0.00001   0.000010   0.077922   0.033711   \n",
       "790   0.009755   0.165129    0.00001   0.174189   0.046752   0.044941   \n",
       "791   0.000010   0.128436    0.00001   0.000010   0.000010   0.000010   \n",
       "\n",
       "     texture64  \n",
       "0     0.008337  \n",
       "1     0.000010  \n",
       "2     0.041667  \n",
       "3     0.000010  \n",
       "4     0.033330  \n",
       "..         ...  \n",
       "787   0.208328  \n",
       "788   0.258324  \n",
       "789   0.108328  \n",
       "790   0.133330  \n",
       "791   0.116665  \n",
       "\n",
       "[792 rows x 129 columns]"
      ]
     },
     "execution_count": 41,
     "metadata": {},
     "output_type": "execute_result"
    }
   ],
   "source": [
    "X_train_mms"
   ]
  },
  {
   "cell_type": "code",
   "execution_count": 42,
   "id": "christian-badge",
   "metadata": {},
   "outputs": [],
   "source": [
    "ptb = PowerTransformer(method='box-cox')\n",
    "X_train_ptb = pd.DataFrame(ptb.fit_transform(X_train_mms), columns = X_train.columns)\n"
   ]
  },
  {
   "cell_type": "code",
   "execution_count": 43,
   "id": "complete-ferry",
   "metadata": {},
   "outputs": [
    {
     "data": {
      "text/plain": [
       "<AxesSubplot:>"
      ]
     },
     "execution_count": 43,
     "metadata": {},
     "output_type": "execute_result"
    },
    {
     "data": {
      "image/png": "[encoded data removed]",
      "text/plain": [
       "<Figure size 432x288 with 1 Axes>"
      ]
     },
     "metadata": {
      "needs_background": "light"
     },
     "output_type": "display_data"
    }
   ],
   "source": [
    "X_train_ptb['margin1'].hist(bins = 50)"
   ]
  },
  {
   "cell_type": "code",
   "execution_count": 44,
   "id": "deadly-audience",
   "metadata": {},
   "outputs": [
    {
     "data": {
      "text/plain": [
       "-0.5199045243046035"
      ]
     },
     "execution_count": 44,
     "metadata": {},
     "output_type": "execute_result"
    }
   ],
   "source": [
    "X_train_ptb['margin1'].skew()"
   ]
  },
  {
   "cell_type": "markdown",
   "id": "latin-carry",
   "metadata": {},
   "source": [
    "Apparently this result is not as promissing as that of yeo-johnsson powerTransformer"
   ]
  },
  {
   "cell_type": "markdown",
   "id": "mature-siemens",
   "metadata": {},
   "source": [
    "## In below we have applied log-transform to normalize data, but still it does not provide a good result"
   ]
  },
  {
   "cell_type": "code",
   "execution_count": 45,
   "id": "soviet-director",
   "metadata": {},
   "outputs": [],
   "source": [
    "import numpy as np\n",
    "X_train_log = X_train_mms.apply(lambda x: np.log(x))"
   ]
  },
  {
   "cell_type": "code",
   "execution_count": 46,
   "id": "useful-strike",
   "metadata": {},
   "outputs": [],
   "source": [
    "X_val_mms = pd.DataFrame(mms.fit_transform(X_val), columns = X_train.columns)\n"
   ]
  },
  {
   "cell_type": "code",
   "execution_count": 47,
   "id": "cathedral-session",
   "metadata": {},
   "outputs": [],
   "source": [
    "X_val_mms.replace(0,10 ** -30 , inplace = True)"
   ]
  },
  {
   "cell_type": "code",
   "execution_count": 48,
   "id": "special-poverty",
   "metadata": {},
   "outputs": [],
   "source": [
    "X_val_log = X_val_mms.apply(lambda x: np.log(x))"
   ]
  },
  {
   "cell_type": "code",
   "execution_count": 49,
   "id": "surprised-hartford",
   "metadata": {},
   "outputs": [
    {
     "data": {
      "text/html": [
       "<div>\n",
       "<style scoped>\n",
       "    .dataframe tbody tr th:only-of-type {\n",
       "        vertical-align: middle;\n",
       "    }\n",
       "\n",
       "    .dataframe tbody tr th {\n",
       "        vertical-align: top;\n",
       "    }\n",
       "\n",
       "    .dataframe thead th {\n",
       "        text-align: right;\n",
       "    }\n",
       "</style>\n",
       "<table border=\"1\" class=\"dataframe\">\n",
       "  <thead>\n",
       "    <tr style=\"text-align: right;\">\n",
       "      <th></th>\n",
       "      <th>margin1</th>\n",
       "      <th>margin2</th>\n",
       "      <th>margin3</th>\n",
       "      <th>margin4</th>\n",
       "      <th>margin5</th>\n",
       "      <th>margin6</th>\n",
       "      <th>margin7</th>\n",
       "      <th>margin8</th>\n",
       "      <th>margin9</th>\n",
       "      <th>margin10</th>\n",
       "      <th>...</th>\n",
       "      <th>texture55</th>\n",
       "      <th>texture56</th>\n",
       "      <th>texture57</th>\n",
       "      <th>texture58</th>\n",
       "      <th>texture59</th>\n",
       "      <th>texture60</th>\n",
       "      <th>texture61</th>\n",
       "      <th>texture62</th>\n",
       "      <th>texture63</th>\n",
       "      <th>texture64</th>\n",
       "    </tr>\n",
       "  </thead>\n",
       "  <tbody>\n",
       "    <tr>\n",
       "      <th>193</th>\n",
       "      <td>-2.708118</td>\n",
       "      <td>-3.320296</td>\n",
       "      <td>-1.203973</td>\n",
       "      <td>-1.877713</td>\n",
       "      <td>-0.200684</td>\n",
       "      <td>-2.590296</td>\n",
       "      <td>-1.791747</td>\n",
       "      <td>-69.077553</td>\n",
       "      <td>-69.077553</td>\n",
       "      <td>-2.110275</td>\n",
       "      <td>...</td>\n",
       "      <td>-69.077553</td>\n",
       "      <td>-69.077553</td>\n",
       "      <td>-2.772550</td>\n",
       "      <td>-69.077553</td>\n",
       "      <td>-1.452271</td>\n",
       "      <td>-69.077553</td>\n",
       "      <td>-69.077553</td>\n",
       "      <td>-69.077553</td>\n",
       "      <td>-0.025013</td>\n",
       "      <td>-1.841226</td>\n",
       "    </tr>\n",
       "    <tr>\n",
       "      <th>194</th>\n",
       "      <td>-0.223155</td>\n",
       "      <td>-0.547643</td>\n",
       "      <td>-1.548817</td>\n",
       "      <td>-4.442742</td>\n",
       "      <td>-69.077553</td>\n",
       "      <td>-0.430829</td>\n",
       "      <td>-2.351436</td>\n",
       "      <td>-69.077553</td>\n",
       "      <td>-2.970480</td>\n",
       "      <td>-0.857439</td>\n",
       "      <td>...</td>\n",
       "      <td>-0.798150</td>\n",
       "      <td>-69.077553</td>\n",
       "      <td>-1.313978</td>\n",
       "      <td>-69.077553</td>\n",
       "      <td>-2.751601</td>\n",
       "      <td>-69.077553</td>\n",
       "      <td>-69.077553</td>\n",
       "      <td>-69.077553</td>\n",
       "      <td>-3.701372</td>\n",
       "      <td>-2.337656</td>\n",
       "    </tr>\n",
       "    <tr>\n",
       "      <th>195</th>\n",
       "      <td>-1.609449</td>\n",
       "      <td>-2.020967</td>\n",
       "      <td>-0.693147</td>\n",
       "      <td>-4.442742</td>\n",
       "      <td>-2.397965</td>\n",
       "      <td>-1.696465</td>\n",
       "      <td>-0.904457</td>\n",
       "      <td>-69.077553</td>\n",
       "      <td>-69.077553</td>\n",
       "      <td>-1.887029</td>\n",
       "      <td>...</td>\n",
       "      <td>-5.801664</td>\n",
       "      <td>-69.077553</td>\n",
       "      <td>-2.877956</td>\n",
       "      <td>-1.379697</td>\n",
       "      <td>-1.710056</td>\n",
       "      <td>-3.744449</td>\n",
       "      <td>-69.077553</td>\n",
       "      <td>-3.589033</td>\n",
       "      <td>-69.077553</td>\n",
       "      <td>-0.686264</td>\n",
       "    </tr>\n",
       "    <tr>\n",
       "      <th>196</th>\n",
       "      <td>-3.806731</td>\n",
       "      <td>-3.725761</td>\n",
       "      <td>-2.184809</td>\n",
       "      <td>-2.650897</td>\n",
       "      <td>-2.397965</td>\n",
       "      <td>-69.077553</td>\n",
       "      <td>-1.252739</td>\n",
       "      <td>0.000000</td>\n",
       "      <td>-2.565015</td>\n",
       "      <td>-2.110275</td>\n",
       "      <td>...</td>\n",
       "      <td>-0.684093</td>\n",
       "      <td>-69.077553</td>\n",
       "      <td>-3.688943</td>\n",
       "      <td>-3.918555</td>\n",
       "      <td>-1.904230</td>\n",
       "      <td>-69.077553</td>\n",
       "      <td>-69.077553</td>\n",
       "      <td>-3.945737</td>\n",
       "      <td>-69.077553</td>\n",
       "      <td>-1.575521</td>\n",
       "    </tr>\n",
       "    <tr>\n",
       "      <th>197</th>\n",
       "      <td>-69.077553</td>\n",
       "      <td>-69.077553</td>\n",
       "      <td>-0.948037</td>\n",
       "      <td>-1.075375</td>\n",
       "      <td>-3.091112</td>\n",
       "      <td>-69.077553</td>\n",
       "      <td>-69.077553</td>\n",
       "      <td>-69.077553</td>\n",
       "      <td>-0.444690</td>\n",
       "      <td>-2.803422</td>\n",
       "      <td>...</td>\n",
       "      <td>-0.733230</td>\n",
       "      <td>-2.934849</td>\n",
       "      <td>-4.382091</td>\n",
       "      <td>-5.016826</td>\n",
       "      <td>-1.285185</td>\n",
       "      <td>-69.077553</td>\n",
       "      <td>-1.466374</td>\n",
       "      <td>-4.505426</td>\n",
       "      <td>-2.315077</td>\n",
       "      <td>-4.283640</td>\n",
       "    </tr>\n",
       "  </tbody>\n",
       "</table>\n",
       "<p>5 rows × 129 columns</p>\n",
       "</div>"
      ],
      "text/plain": [
       "       margin1    margin2   margin3   margin4    margin5    margin6  \\\n",
       "193  -2.708118  -3.320296 -1.203973 -1.877713  -0.200684  -2.590296   \n",
       "194  -0.223155  -0.547643 -1.548817 -4.442742 -69.077553  -0.430829   \n",
       "195  -1.609449  -2.020967 -0.693147 -4.442742  -2.397965  -1.696465   \n",
       "196  -3.806731  -3.725761 -2.184809 -2.650897  -2.397965 -69.077553   \n",
       "197 -69.077553 -69.077553 -0.948037 -1.075375  -3.091112 -69.077553   \n",
       "\n",
       "       margin7    margin8    margin9  margin10  ...  texture55  texture56  \\\n",
       "193  -1.791747 -69.077553 -69.077553 -2.110275  ... -69.077553 -69.077553   \n",
       "194  -2.351436 -69.077553  -2.970480 -0.857439  ...  -0.798150 -69.077553   \n",
       "195  -0.904457 -69.077553 -69.077553 -1.887029  ...  -5.801664 -69.077553   \n",
       "196  -1.252739   0.000000  -2.565015 -2.110275  ...  -0.684093 -69.077553   \n",
       "197 -69.077553 -69.077553  -0.444690 -2.803422  ...  -0.733230  -2.934849   \n",
       "\n",
       "     texture57  texture58  texture59  texture60  texture61  texture62  \\\n",
       "193  -2.772550 -69.077553  -1.452271 -69.077553 -69.077553 -69.077553   \n",
       "194  -1.313978 -69.077553  -2.751601 -69.077553 -69.077553 -69.077553   \n",
       "195  -2.877956  -1.379697  -1.710056  -3.744449 -69.077553  -3.589033   \n",
       "196  -3.688943  -3.918555  -1.904230 -69.077553 -69.077553  -3.945737   \n",
       "197  -4.382091  -5.016826  -1.285185 -69.077553  -1.466374  -4.505426   \n",
       "\n",
       "     texture63  texture64  \n",
       "193  -0.025013  -1.841226  \n",
       "194  -3.701372  -2.337656  \n",
       "195 -69.077553  -0.686264  \n",
       "196 -69.077553  -1.575521  \n",
       "197  -2.315077  -4.283640  \n",
       "\n",
       "[5 rows x 129 columns]"
      ]
     },
     "execution_count": 49,
     "metadata": {},
     "output_type": "execute_result"
    }
   ],
   "source": [
    "X_val_log.tail()"
   ]
  },
  {
   "cell_type": "code",
   "execution_count": 50,
   "id": "ideal-charge",
   "metadata": {},
   "outputs": [
    {
     "data": {
      "text/plain": [
       "array([[<AxesSubplot:title={'center':'margin1'}>,\n",
       "        <AxesSubplot:title={'center':'margin2'}>]], dtype=object)"
      ]
     },
     "execution_count": 50,
     "metadata": {},
     "output_type": "execute_result"
    },
    {
     "data": {
      "image/png": "[encoded data removed]",
      "text/plain": [
       "<Figure size 432x288 with 2 Axes>"
      ]
     },
     "metadata": {
      "needs_background": "light"
     },
     "output_type": "display_data"
    }
   ],
   "source": [
    "X_train_log[['margin1','margin2']].hist(bins = 50)"
   ]
  },
  {
   "cell_type": "code",
   "execution_count": 51,
   "id": "great-female",
   "metadata": {},
   "outputs": [
    {
     "data": {
      "text/plain": [
       "-1.2366621736698264"
      ]
     },
     "execution_count": 51,
     "metadata": {},
     "output_type": "execute_result"
    }
   ],
   "source": [
    "X_train_log['margin1'].skew()"
   ]
  },
  {
   "cell_type": "code",
   "execution_count": 52,
   "id": "wanted-tattoo",
   "metadata": {},
   "outputs": [
    {
     "data": {
      "text/plain": [
       "1.307992769854673"
      ]
     },
     "execution_count": 52,
     "metadata": {},
     "output_type": "execute_result"
    }
   ],
   "source": [
    "X_train['margin1'].skew()"
   ]
  },
  {
   "cell_type": "markdown",
   "id": "valuable-instruction",
   "metadata": {},
   "source": [
    "This skew number indicates that the log-transformer is not able to normalie this data."
   ]
  },
  {
   "cell_type": "markdown",
   "id": "tired-flood",
   "metadata": {},
   "source": [
    "Hence, the best method to normalize this data, the  best method is to use power transformer yoe johnson."
   ]
  },
  {
   "cell_type": "markdown",
   "id": "determined-postcard",
   "metadata": {},
   "source": [
    "Since we eant to use the same data cleaning procedure in a while in the test data, we create a pipeline"
   ]
  },
  {
   "cell_type": "code",
   "execution_count": 53,
   "id": "final-consultancy",
   "metadata": {},
   "outputs": [],
   "source": [
    "from sklearn.pipeline import Pipeline\n",
    "pipeline = Pipeline([\n",
    "    ('drop_attribute' , DropAttributes() ),\n",
    "    ('power_transformer' , PowerTransformer()),\n",
    "    ('standard_scaler' , StandardScaler()),\n",
    "])"
   ]
  },
  {
   "cell_type": "markdown",
   "id": "laden-thread",
   "metadata": {},
   "source": [
    "### Learning models"
   ]
  },
  {
   "cell_type": "markdown",
   "id": "personalized-grave",
   "metadata": {},
   "source": [
    "The first cleaning task is to separate attributes from the labels and use numerical values for the labels."
   ]
  },
  {
   "cell_type": "code",
   "execution_count": 54,
   "id": "chief-aviation",
   "metadata": {},
   "outputs": [],
   "source": [
    "from sklearn.preprocessing import LabelEncoder\n",
    "labelencoder = LabelEncoder()\n",
    "y_train = labelencoder.fit_transform(y_train)\n",
    "y_val = labelencoder.fit_transform(y_val)"
   ]
  },
  {
   "cell_type": "markdown",
   "id": "jewish-ceramic",
   "metadata": {},
   "source": [
    "I have used k_nearest neighbor as a baseline."
   ]
  },
  {
   "cell_type": "code",
   "execution_count": 55,
   "id": "baking-baseball",
   "metadata": {},
   "outputs": [
    {
     "data": {
      "text/plain": [
       "KNeighborsClassifier()"
      ]
     },
     "execution_count": 55,
     "metadata": {},
     "output_type": "execute_result"
    }
   ],
   "source": [
    "from sklearn.neighbors import KNeighborsClassifier\n",
    "knn_clf = KNeighborsClassifier(n_neighbors = 5)\n",
    "knn_clf.fit(X_train_pt,y_train)"
   ]
  },
  {
   "cell_type": "markdown",
   "id": "broad-administrator",
   "metadata": {},
   "source": [
    "## Evaluating performance of the Knn"
   ]
  },
  {
   "cell_type": "markdown",
   "id": "metropolitan-clear",
   "metadata": {},
   "source": [
    "K-nearest neighbor is a soft classifier(or scoring classifier). The data set that we are working on is a balanced one, so we can use accuracy-score, precision,recall, as well as F1-score. Since the method predict-proba is defined for KNN, we can calculate Area under ROC curve. Since all of these are defined based on the confusion matrix, let's first calculate it."
   ]
  },
  {
   "cell_type": "code",
   "execution_count": 56,
   "id": "accessible-blind",
   "metadata": {},
   "outputs": [],
   "source": [
    "from sklearn.model_selection import cross_val_predict\n",
    "y_train_pred = cross_val_predict(knn_clf, X_train_pt, y_train, cv = 3)"
   ]
  },
  {
   "cell_type": "code",
   "execution_count": 57,
   "id": "legitimate-vulnerability",
   "metadata": {},
   "outputs": [],
   "source": [
    "from sklearn.metrics import confusion_matrix\n",
    "conf_mx = confusion_matrix(y_train , y_train_pred)"
   ]
  },
  {
   "cell_type": "code",
   "execution_count": 58,
   "id": "adapted-treatment",
   "metadata": {},
   "outputs": [
    {
     "data": {
      "text/plain": [
       "array([[8, 0, 0, ..., 0, 0, 0],\n",
       "       [0, 8, 0, ..., 0, 0, 0],\n",
       "       [0, 0, 8, ..., 0, 0, 0],\n",
       "       ...,\n",
       "       [0, 0, 0, ..., 8, 0, 0],\n",
       "       [0, 0, 0, ..., 0, 8, 0],\n",
       "       [0, 0, 0, ..., 0, 0, 7]])"
      ]
     },
     "execution_count": 58,
     "metadata": {},
     "output_type": "execute_result"
    }
   ],
   "source": [
    "conf_mx"
   ]
  },
  {
   "cell_type": "code",
   "execution_count": 59,
   "id": "premier-partner",
   "metadata": {},
   "outputs": [
    {
     "data": {
      "text/plain": [
       "<matplotlib.image.AxesImage at 0x11b4d4880>"
      ]
     },
     "execution_count": 59,
     "metadata": {},
     "output_type": "execute_result"
    },
    {
     "data": {
      "image/png": "[encoded data removed]",
      "text/plain": [
       "<Figure size 288x288 with 1 Axes>"
      ]
     },
     "metadata": {
      "needs_background": "light"
     },
     "output_type": "display_data"
    }
   ],
   "source": [
    "from matplotlib import pyplot as plt\n",
    "plt.matshow(conf_mx, cmap = plt.cm.gray)"
   ]
  },
  {
   "cell_type": "markdown",
   "id": "undefined-night",
   "metadata": {},
   "source": [
    "Let's start to calculate accuracy score , precision and recall. To do that, we need to use a validation set, and evaluate predictions over that."
   ]
  },
  {
   "cell_type": "code",
   "execution_count": 60,
   "id": "indirect-injury",
   "metadata": {},
   "outputs": [],
   "source": [
    "ssv = StandardScaler()\n",
    "_= ssv.fit(X_val)\n",
    "X_val_standard = pd.DataFrame(ss.transform(X_val) , columns = X_val.columns)\n",
    "X_val_pt = pd.DataFrame(pt.fit_transform(X_val_standard),columns = X_val.columns)"
   ]
  },
  {
   "cell_type": "code",
   "execution_count": 61,
   "id": "indian-vancouver",
   "metadata": {},
   "outputs": [],
   "source": [
    "predictions = knn_clf.predict(X_val_pt)"
   ]
  },
  {
   "cell_type": "code",
   "execution_count": 62,
   "id": "nasty-orchestra",
   "metadata": {},
   "outputs": [
    {
     "name": "stderr",
     "output_type": "stream",
     "text": [
      "/Users/hosseinkhani/miniconda3/envs/dataenv/lib/python3.9/site-packages/sklearn/metrics/_classification.py:1245: UndefinedMetricWarning: Precision is ill-defined and being set to 0.0 in labels with no predicted samples. Use `zero_division` parameter to control this behavior.\n",
      "  _warn_prf(average, modifier, msg_start, len(result))\n"
     ]
    },
    {
     "data": {
      "text/plain": [
       "0.962962962962963"
      ]
     },
     "execution_count": 62,
     "metadata": {},
     "output_type": "execute_result"
    }
   ],
   "source": [
    "from sklearn.metrics import precision_score,accuracy_score,recall_score\n",
    "precision_score(y_val , predictions, average = 'macro')"
   ]
  },
  {
   "cell_type": "code",
   "execution_count": 63,
   "id": "hairy-silver",
   "metadata": {},
   "outputs": [
    {
     "data": {
      "text/plain": [
       "0.9595959595959596"
      ]
     },
     "execution_count": 63,
     "metadata": {},
     "output_type": "execute_result"
    }
   ],
   "source": [
    "precision_score(y_val,predictions , average = \"micro\")"
   ]
  },
  {
   "cell_type": "code",
   "execution_count": 64,
   "id": "racial-guinea",
   "metadata": {},
   "outputs": [
    {
     "name": "stderr",
     "output_type": "stream",
     "text": [
      "/Users/hosseinkhani/miniconda3/envs/dataenv/lib/python3.9/site-packages/sklearn/metrics/_classification.py:1245: UndefinedMetricWarning: Precision is ill-defined and being set to 0.0 in labels with no predicted samples. Use `zero_division` parameter to control this behavior.\n",
      "  _warn_prf(average, modifier, msg_start, len(result))\n"
     ]
    },
    {
     "data": {
      "text/plain": [
       "0.962962962962963"
      ]
     },
     "execution_count": 64,
     "metadata": {},
     "output_type": "execute_result"
    }
   ],
   "source": [
    "precision_score(y_val, predictions , average = \"weighted\")"
   ]
  },
  {
   "cell_type": "code",
   "execution_count": 65,
   "id": "assumed-burton",
   "metadata": {},
   "outputs": [
    {
     "data": {
      "text/plain": [
       "0.9595959595959596"
      ]
     },
     "execution_count": 65,
     "metadata": {},
     "output_type": "execute_result"
    }
   ],
   "source": [
    "recall_score(y_val, predictions, average = \"macro\")"
   ]
  },
  {
   "cell_type": "code",
   "execution_count": 66,
   "id": "damaged-newton",
   "metadata": {},
   "outputs": [
    {
     "data": {
      "text/plain": [
       "0.9595959595959596"
      ]
     },
     "execution_count": 66,
     "metadata": {},
     "output_type": "execute_result"
    }
   ],
   "source": [
    "recall_score(y_val, predictions, average = \"micro\")"
   ]
  },
  {
   "cell_type": "code",
   "execution_count": 67,
   "id": "sustainable-chamber",
   "metadata": {},
   "outputs": [
    {
     "data": {
      "text/plain": [
       "0.9595959595959596"
      ]
     },
     "execution_count": 67,
     "metadata": {},
     "output_type": "execute_result"
    }
   ],
   "source": [
    "recall_score(y_val, predictions, average = \"weighted\")"
   ]
  },
  {
   "cell_type": "markdown",
   "id": "lucky-issue",
   "metadata": {},
   "source": [
    "F1-score is more appropriate if the classes are imbalance."
   ]
  },
  {
   "cell_type": "code",
   "execution_count": 68,
   "id": "tutorial-consultation",
   "metadata": {},
   "outputs": [
    {
     "data": {
      "text/plain": [
       "0.9535353535353536"
      ]
     },
     "execution_count": 68,
     "metadata": {},
     "output_type": "execute_result"
    }
   ],
   "source": [
    "from sklearn.metrics import f1_score\n",
    "f1_score(y_val, predictions , average = \"macro\")"
   ]
  },
  {
   "cell_type": "markdown",
   "id": "proved-produce",
   "metadata": {},
   "source": [
    "We can also calcuate the log-loss value, which calculates the entropy loss. The smaller value of loss means the better preditor!"
   ]
  },
  {
   "cell_type": "code",
   "execution_count": 69,
   "id": "another-chile",
   "metadata": {},
   "outputs": [],
   "source": [
    "predict_probability = knn_clf.predict_proba(X_val_pt)"
   ]
  },
  {
   "cell_type": "code",
   "execution_count": 70,
   "id": "enormous-location",
   "metadata": {},
   "outputs": [
    {
     "data": {
      "text/plain": [
       "(198, 99)"
      ]
     },
     "execution_count": 70,
     "metadata": {},
     "output_type": "execute_result"
    }
   ],
   "source": [
    "predict_probability.shape"
   ]
  },
  {
   "cell_type": "code",
   "execution_count": 71,
   "id": "pacific-titanium",
   "metadata": {},
   "outputs": [
    {
     "data": {
      "text/plain": [
       "0.1519810018584489"
      ]
     },
     "execution_count": 71,
     "metadata": {},
     "output_type": "execute_result"
    }
   ],
   "source": [
    "from sklearn.metrics import log_loss\n",
    "log_loss(y_val,predict_probability)"
   ]
  },
  {
   "cell_type": "code",
   "execution_count": 72,
   "id": "fifth-synthetic",
   "metadata": {},
   "outputs": [
    {
     "data": {
      "text/plain": [
       "0.9999098124098125"
      ]
     },
     "execution_count": 72,
     "metadata": {},
     "output_type": "execute_result"
    }
   ],
   "source": [
    "from sklearn.metrics import roc_auc_score\n",
    "\n",
    "roc_auc_score(y_val, predict_probability, average=\"weighted\", multi_class = 'ovr')"
   ]
  },
  {
   "cell_type": "markdown",
   "id": "equipped-edmonton",
   "metadata": {},
   "source": [
    "That's true that the log_loss for this **knn** algorihthm is two small, but it general this is not a good metric to evaluate the performance of knn. More precisely, the entropy loss for a learning model is low when the algorithm predicts sample memberships with high probability.In knn this probability is based on the number of points around the tested sample that belong to a specific class, and increasing the number of neighbors means there is more probable that the number of points that are belonged to a class whould increase. In our current model the number of neighbors are equal to 5, so if we increase this number we might expect reduction in the entropy loss. Briefly saying, log-loss is not a good metric for knn since there is no learning, it ust memorize the training data and use to do the prediction, so normally there is not much information loss! "
   ]
  },
  {
   "cell_type": "code",
   "execution_count": 73,
   "id": "automotive-begin",
   "metadata": {},
   "outputs": [
    {
     "data": {
      "text/plain": [
       "array(['Acer_Opalus', 'Pterocarya_Stenoptera', 'Quercus_Hartwissiana',\n",
       "       'Tilia_Tomentosa', 'Quercus_Variabilis', 'Magnolia_Salicifolia',\n",
       "       'Quercus_Canariensis', 'Quercus_Rubra', 'Quercus_Brantii',\n",
       "       'Salix_Fragilis', 'Zelkova_Serrata', 'Betula_Austrosinensis',\n",
       "       'Quercus_Pontica', 'Quercus_Afares', 'Quercus_Coccifera',\n",
       "       'Fagus_Sylvatica', 'Phildelphus', 'Acer_Palmatum',\n",
       "       'Quercus_Pubescens', 'Populus_Adenopoda', 'Quercus_Trojana',\n",
       "       'Alnus_Sieboldiana', 'Quercus_Ilex', 'Arundinaria_Simonii',\n",
       "       'Acer_Platanoids', 'Quercus_Phillyraeoides', 'Cornus_Chinensis',\n",
       "       'Liriodendron_Tulipifera', 'Cytisus_Battandieri',\n",
       "       'Rhododendron_x_Russellianum', 'Alnus_Rubra',\n",
       "       'Eucalyptus_Glaucescens', 'Cercis_Siliquastrum',\n",
       "       'Cotinus_Coggygria', 'Celtis_Koraiensis', 'Quercus_Crassifolia',\n",
       "       'Quercus_Kewensis', 'Cornus_Controversa', 'Quercus_Pyrenaica',\n",
       "       'Callicarpa_Bodinieri', 'Quercus_Alnifolia', 'Acer_Saccharinum',\n",
       "       'Prunus_X_Shmittii', 'Prunus_Avium', 'Quercus_Greggii',\n",
       "       'Quercus_Suber', 'Quercus_Dolicholepis', 'Ilex_Cornuta',\n",
       "       'Tilia_Oliveri', 'Quercus_Semecarpifolia', 'Quercus_Texana',\n",
       "       'Ginkgo_Biloba', 'Liquidambar_Styraciflua', 'Quercus_Phellos',\n",
       "       'Quercus_Palustris', 'Alnus_Maximowiczii', 'Quercus_Agrifolia',\n",
       "       'Acer_Pictum', 'Acer_Rufinerve', 'Lithocarpus_Cleistocarpus',\n",
       "       'Viburnum_x_Rhytidophylloides', 'Ilex_Aquifolium',\n",
       "       'Acer_Circinatum', 'Quercus_Coccinea', 'Quercus_Cerris',\n",
       "       'Quercus_Chrysolepis', 'Eucalyptus_Neglecta', 'Tilia_Platyphyllos',\n",
       "       'Alnus_Cordata', 'Populus_Nigra', 'Acer_Capillipes',\n",
       "       'Magnolia_Heptapeta', 'Acer_Mono', 'Cornus_Macrophylla',\n",
       "       'Crataegus_Monogyna', 'Quercus_x_Turneri', 'Quercus_Castaneifolia',\n",
       "       'Lithocarpus_Edulis', 'Populus_Grandidentata', 'Acer_Rubrum',\n",
       "       'Quercus_Imbricaria', 'Eucalyptus_Urnigera', 'Quercus_Crassipes',\n",
       "       'Viburnum_Tinus', 'Morus_Nigra', 'Quercus_Vulcanica',\n",
       "       'Alnus_Viridis', 'Betula_Pendula', 'Olea_Europaea',\n",
       "       'Quercus_Ellipsoidalis', 'Quercus_x_Hispanica',\n",
       "       'Quercus_Shumardii', 'Quercus_Rhysophylla', 'Castanea_Sativa',\n",
       "       'Ulmus_Bergmanniana', 'Quercus_Nigra', 'Salix_Intergra',\n",
       "       'Quercus_Infectoria_sub', 'Sorbus_Aria'], dtype=object)"
      ]
     },
     "execution_count": 73,
     "metadata": {},
     "output_type": "execute_result"
    }
   ],
   "source": [
    "data['species'].unique()"
   ]
  },
  {
   "cell_type": "code",
   "execution_count": 77,
   "id": "excessive-fabric",
   "metadata": {},
   "outputs": [
    {
     "data": {
      "text/plain": [
       "(792,)"
      ]
     },
     "execution_count": 77,
     "metadata": {},
     "output_type": "execute_result"
    }
   ],
   "source": [
    "np.where(y_train== 1 , 1, 0).shape"
   ]
  },
  {
   "cell_type": "code",
   "execution_count": 78,
   "id": "attractive-fitting",
   "metadata": {},
   "outputs": [
    {
     "data": {
      "text/plain": [
       "(198,)"
      ]
     },
     "execution_count": 78,
     "metadata": {},
     "output_type": "execute_result"
    }
   ],
   "source": [
    "predict_probability[:,1].shape"
   ]
  },
  {
   "cell_type": "markdown",
   "id": "consistent-guitar",
   "metadata": {},
   "source": [
    "## ROC curve, precision_recall curve"
   ]
  },
  {
   "cell_type": "code",
   "execution_count": 74,
   "id": "single-mexico",
   "metadata": {},
   "outputs": [
    {
     "data": {
      "image/png": "[encoded data removed]",
      "text/plain": [
       "<Figure size 432x288 with 1 Axes>"
      ]
     },
     "metadata": {
      "needs_background": "light"
     },
     "output_type": "display_data"
    }
   ],
   "source": [
    "from sklearn.metrics import roc_curve\n",
    "for i in range(0,99):\n",
    "    fpr, tpr, thresholds = roc_curve(np.where(y_val== i , 1, 0), predict_probability[:,i] )\n",
    "    plt.plot(fpr, tpr)"
   ]
  },
  {
   "cell_type": "code",
   "execution_count": 75,
   "id": "boxed-standing",
   "metadata": {},
   "outputs": [
    {
     "data": {
      "text/plain": [
       "1.0"
      ]
     },
     "execution_count": 75,
     "metadata": {},
     "output_type": "execute_result"
    },
    {
     "data": {
      "image/png": "[encoded data removed]",
      "text/plain": [
       "<Figure size 432x288 with 1 Axes>"
      ]
     },
     "metadata": {
      "needs_background": "light"
     },
     "output_type": "display_data"
    }
   ],
   "source": [
    "from sklearn.metrics import precision_recall_curve,auc\n",
    "for i in range(0,99):\n",
    "    precision , recall , _ = precision_recall_curve(np.where(y_val== i , 1, 0), predict_probability[:,i])\n",
    "    plt.plot(precision, recall)\n",
    "auc(recall, precision)    "
   ]
  },
  {
   "cell_type": "markdown",
   "id": "following-isaac",
   "metadata": {},
   "source": [
    "## Now let's use another hard classifier (non-scoring) which means svc"
   ]
  },
  {
   "cell_type": "markdown",
   "id": "included-haven",
   "metadata": {},
   "source": [
    "In order to use SVC I have used LinearSVC model of sklearn. Since this is a multiclassification task, I have passed it as a parameter to a one versus all classifier. In addition, to calculate some of the metrics I need to know how classifier is confident in assigning samples to classes. This is where Calibrated ClassifierCV comes to rescue. Therefore, the classifier is a nested classifier of three classifiers, linear svc, onevsrestclassifier, and calibratedclassifiercv."
   ]
  },
  {
   "cell_type": "code",
   "execution_count": 76,
   "id": "large-mailing",
   "metadata": {},
   "outputs": [],
   "source": [
    "from sklearn.calibration import CalibratedClassifierCV\n",
    "from sklearn.multiclass import OneVsRestClassifier\n",
    "from sklearn.svm import LinearSVC\n",
    "calibrated = CalibratedClassifierCV(OneVsRestClassifier(LinearSVC(max_iter = 2000)))"
   ]
  },
  {
   "cell_type": "code",
   "execution_count": 77,
   "id": "played-contest",
   "metadata": {},
   "outputs": [
    {
     "data": {
      "text/plain": [
       "CalibratedClassifierCV(base_estimator=OneVsRestClassifier(estimator=LinearSVC(max_iter=2000)))"
      ]
     },
     "execution_count": 77,
     "metadata": {},
     "output_type": "execute_result"
    }
   ],
   "source": [
    "calibrated.fit(X_train_pt, y_train)"
   ]
  },
  {
   "cell_type": "code",
   "execution_count": 78,
   "id": "african-bulgarian",
   "metadata": {},
   "outputs": [],
   "source": [
    "prediction_probability = calibrated.predict_proba(X_val_pt)"
   ]
  },
  {
   "cell_type": "code",
   "execution_count": 79,
   "id": "intermediate-medicine",
   "metadata": {},
   "outputs": [],
   "source": [
    "predict = calibrated.predict(X_val_pt)"
   ]
  },
  {
   "cell_type": "code",
   "execution_count": 80,
   "id": "monetary-flood",
   "metadata": {},
   "outputs": [
    {
     "data": {
      "text/plain": [
       "(198,)"
      ]
     },
     "execution_count": 80,
     "metadata": {},
     "output_type": "execute_result"
    }
   ],
   "source": [
    "predict.shape"
   ]
  },
  {
   "cell_type": "code",
   "execution_count": 81,
   "id": "arctic-restoration",
   "metadata": {},
   "outputs": [
    {
     "data": {
      "text/plain": [
       "0.9949494949494949"
      ]
     },
     "execution_count": 81,
     "metadata": {},
     "output_type": "execute_result"
    }
   ],
   "source": [
    "precision_score(y_val , predict , average = \"micro\")"
   ]
  },
  {
   "cell_type": "code",
   "execution_count": 82,
   "id": "pressing-palace",
   "metadata": {},
   "outputs": [
    {
     "data": {
      "text/plain": [
       "0.9966329966329966"
      ]
     },
     "execution_count": 82,
     "metadata": {},
     "output_type": "execute_result"
    }
   ],
   "source": [
    "precision_score(y_val , predict , average = \"macro\")"
   ]
  },
  {
   "cell_type": "code",
   "execution_count": 83,
   "id": "falling-massage",
   "metadata": {},
   "outputs": [
    {
     "data": {
      "text/plain": [
       "0.9966329966329966"
      ]
     },
     "execution_count": 83,
     "metadata": {},
     "output_type": "execute_result"
    }
   ],
   "source": [
    "precision_score(y_val , predict , average = \"weighted\")"
   ]
  },
  {
   "cell_type": "code",
   "execution_count": 84,
   "id": "twenty-output",
   "metadata": {},
   "outputs": [
    {
     "data": {
      "text/plain": [
       "0.9949494949494949"
      ]
     },
     "execution_count": 84,
     "metadata": {},
     "output_type": "execute_result"
    }
   ],
   "source": [
    "recall_score(y_val, predict, average = \"macro\")"
   ]
  },
  {
   "cell_type": "code",
   "execution_count": 85,
   "id": "freelance-durham",
   "metadata": {},
   "outputs": [
    {
     "data": {
      "text/plain": [
       "0.9595959595959596"
      ]
     },
     "execution_count": 85,
     "metadata": {},
     "output_type": "execute_result"
    }
   ],
   "source": [
    "recall_score(y_val, predictions, average = \"micro\")"
   ]
  },
  {
   "cell_type": "code",
   "execution_count": 86,
   "id": "subtle-conjunction",
   "metadata": {},
   "outputs": [
    {
     "data": {
      "text/plain": [
       "0.9595959595959596"
      ]
     },
     "execution_count": 86,
     "metadata": {},
     "output_type": "execute_result"
    }
   ],
   "source": [
    "recall_score(y_val, predictions, average = \"weighted\")"
   ]
  },
  {
   "cell_type": "code",
   "execution_count": 87,
   "id": "correct-clarity",
   "metadata": {},
   "outputs": [
    {
     "data": {
      "text/plain": [
       "0.9946127946127946"
      ]
     },
     "execution_count": 87,
     "metadata": {},
     "output_type": "execute_result"
    }
   ],
   "source": [
    "from sklearn.metrics import f1_score\n",
    "f1_score(y_val, predict,average = \"macro\")"
   ]
  },
  {
   "cell_type": "markdown",
   "id": "accessory-peter",
   "metadata": {},
   "source": [
    "### Different averaging techniques:\n",
    "\n",
    "In above, I have used various averaging techniques to calculate precision and recall scores. But the question is, which one of them is more appropriate in our case?\n",
    "\n",
    "Micro average gived the same importance to the samples, meaning that all the samples have the same contribution in calculating the scores. Since all the samples in our dataset has the same importance (we are not interested in a particular kind of samples) this is a appropriate averaging technique for us.\n",
    "\n",
    "The differencebetween weighted and macro averaging comes into consideration when we face imbalanced datasets. More precisely, macro averaging gives the same importance to classes, when it computes the scores, while weighted averaging gives each class a weight corresponding to its size!\n",
    "\n",
    "In our example the two macro and weighted averaging return the same value since our data set is totally balanced and all classes have the same sizes."
   ]
  },
  {
   "cell_type": "markdown",
   "id": "alive-proportion",
   "metadata": {},
   "source": [
    "in general it seems that all the scores of precision, recall and f1 will improve by using linear svc."
   ]
  },
  {
   "cell_type": "code",
   "execution_count": 88,
   "id": "silent-dairy",
   "metadata": {},
   "outputs": [
    {
     "data": {
      "text/plain": [
       "0.9999226963512678"
      ]
     },
     "execution_count": 88,
     "metadata": {},
     "output_type": "execute_result"
    }
   ],
   "source": [
    "roc_auc_score(y_val, prediction_probability, average=\"weighted\", multi_class = 'ovr')\n"
   ]
  },
  {
   "cell_type": "markdown",
   "id": "outside-information",
   "metadata": {},
   "source": [
    "the same for roc_auc_score"
   ]
  },
  {
   "cell_type": "code",
   "execution_count": 89,
   "id": "integral-rating",
   "metadata": {},
   "outputs": [
    {
     "data": {
      "text/plain": [
       "0.1519810018584489"
      ]
     },
     "execution_count": 89,
     "metadata": {},
     "output_type": "execute_result"
    }
   ],
   "source": [
    "log_loss(y_val , predict_probability)"
   ]
  },
  {
   "cell_type": "markdown",
   "id": "successful-assist",
   "metadata": {},
   "source": [
    "However apparently there are more entropy loss! why is that? This means that the Support Vector Classifier is somehow overfit furing training."
   ]
  },
  {
   "cell_type": "markdown",
   "id": "violent-group",
   "metadata": {},
   "source": [
    "smaller log_loss means more confidence in doing prediction"
   ]
  },
  {
   "cell_type": "markdown",
   "id": "illegal-parcel",
   "metadata": {},
   "source": [
    "### Now let's to do a regularization by manipulating the margin of the svc."
   ]
  },
  {
   "cell_type": "markdown",
   "id": "boxed-album",
   "metadata": {},
   "source": [
    "To regularize the calibrated one Vs rest SVC, I have used the GridSearchCV. Note, that the SVC uses Rigde regression for its regularization. "
   ]
  },
  {
   "cell_type": "code",
   "execution_count": 110,
   "id": "together-warrant",
   "metadata": {},
   "outputs": [],
   "source": [
    "from sklearn.model_selection import GridSearchCV\n",
    "from sklearn.metrics import log_loss, make_scorer\n",
    "params = { 'base_estimator__estimator__C': np.logspace(-3, 3, 7) }\n",
    "LogLoss = make_scorer(log_loss, greater_is_better=False, needs_proba=True)\n",
    "gs_svm = GridSearchCV(calibrated , params, cv=5, scoring=LogLoss,n_jobs = -1)"
   ]
  },
  {
   "cell_type": "code",
   "execution_count": 111,
   "id": "focused-congo",
   "metadata": {},
   "outputs": [
    {
     "data": {
      "text/plain": [
       "dict_keys(['base_estimator__estimator__C', 'base_estimator__estimator__class_weight', 'base_estimator__estimator__dual', 'base_estimator__estimator__fit_intercept', 'base_estimator__estimator__intercept_scaling', 'base_estimator__estimator__loss', 'base_estimator__estimator__max_iter', 'base_estimator__estimator__multi_class', 'base_estimator__estimator__penalty', 'base_estimator__estimator__random_state', 'base_estimator__estimator__tol', 'base_estimator__estimator__verbose', 'base_estimator__estimator', 'base_estimator__n_jobs', 'base_estimator', 'cv', 'ensemble', 'method', 'n_jobs'])"
      ]
     },
     "execution_count": 111,
     "metadata": {},
     "output_type": "execute_result"
    }
   ],
   "source": [
    "calibrated.get_params().keys()"
   ]
  },
  {
   "cell_type": "code",
   "execution_count": 112,
   "id": "pacific-gibson",
   "metadata": {},
   "outputs": [
    {
     "data": {
      "text/plain": [
       "GridSearchCV(cv=5,\n",
       "             estimator=CalibratedClassifierCV(base_estimator=OneVsRestClassifier(estimator=LinearSVC(max_iter=2000))),\n",
       "             n_jobs=-1,\n",
       "             param_grid={'base_estimator__estimator__C': array([1.e-03, 1.e-02, 1.e-01, 1.e+00, 1.e+01, 1.e+02, 1.e+03])},\n",
       "             scoring=make_scorer(log_loss, greater_is_better=False, needs_proba=True))"
      ]
     },
     "execution_count": 112,
     "metadata": {},
     "output_type": "execute_result"
    }
   ],
   "source": [
    "gs_svm.fit(X_train_pt, y_train)"
   ]
  },
  {
   "cell_type": "code",
   "execution_count": 102,
   "id": "greatest-kitchen",
   "metadata": {},
   "outputs": [
    {
     "data": {
      "text/plain": [
       "CalibratedClassifierCV(base_estimator=OneVsRestClassifier(estimator=LinearSVC(C=0.01,\n",
       "                                                                              max_iter=2000)))"
      ]
     },
     "execution_count": 102,
     "metadata": {},
     "output_type": "execute_result"
    }
   ],
   "source": [
    "calibrated_opt = gs_svm.best_estimator_\n",
    "calibrated_opt.fit(X_train_pt, y_train)"
   ]
  },
  {
   "cell_type": "code",
   "execution_count": 113,
   "id": "taken-potential",
   "metadata": {},
   "outputs": [],
   "source": [
    "predp = calibrated_opt.predict_proba(X_val_pt)"
   ]
  },
  {
   "cell_type": "code",
   "execution_count": 114,
   "id": "norwegian-chain",
   "metadata": {},
   "outputs": [],
   "source": [
    "pred= calibrated_opt.predict(X_val_pt)"
   ]
  },
  {
   "cell_type": "code",
   "execution_count": 115,
   "id": "lucky-affiliate",
   "metadata": {},
   "outputs": [
    {
     "data": {
      "text/plain": [
       "0.98989898989899"
      ]
     },
     "execution_count": 115,
     "metadata": {},
     "output_type": "execute_result"
    }
   ],
   "source": [
    "precision_score(y_val , pred , average = \"micro\")"
   ]
  },
  {
   "cell_type": "code",
   "execution_count": 124,
   "id": "adaptive-thriller",
   "metadata": {},
   "outputs": [
    {
     "data": {
      "text/plain": [
       "0.9932659932659934"
      ]
     },
     "execution_count": 124,
     "metadata": {},
     "output_type": "execute_result"
    }
   ],
   "source": [
    "precision_score(y_val , pred , average = \"macro\")"
   ]
  },
  {
   "cell_type": "code",
   "execution_count": 126,
   "id": "personal-tackle",
   "metadata": {},
   "outputs": [
    {
     "data": {
      "text/plain": [
       "0.9932659932659934"
      ]
     },
     "execution_count": 126,
     "metadata": {},
     "output_type": "execute_result"
    }
   ],
   "source": [
    "precision_score(y_val , pred , average = \"weighted\")"
   ]
  },
  {
   "cell_type": "code",
   "execution_count": 127,
   "id": "played-boring",
   "metadata": {},
   "outputs": [
    {
     "data": {
      "text/plain": [
       "0.9946127946127946"
      ]
     },
     "execution_count": 127,
     "metadata": {},
     "output_type": "execute_result"
    }
   ],
   "source": [
    "f1_score(y_val, predict,average = \"macro\")"
   ]
  },
  {
   "cell_type": "code",
   "execution_count": 116,
   "id": "threatened-title",
   "metadata": {},
   "outputs": [
    {
     "data": {
      "text/plain": [
       "0.996100118389783"
      ]
     },
     "execution_count": 116,
     "metadata": {},
     "output_type": "execute_result"
    }
   ],
   "source": [
    "log_loss(y_val , predp)"
   ]
  },
  {
   "cell_type": "markdown",
   "id": "grave-verification",
   "metadata": {},
   "source": [
    "As you can see, there is an improvement in the precision score, there is an increase in log_loss. This is quite normal because we regularize the model which means it will reduce its variance to have a better bias in doing prediction."
   ]
  },
  {
   "cell_type": "code",
   "execution_count": 118,
   "id": "digital-pottery",
   "metadata": {},
   "outputs": [
    {
     "data": {
      "text/plain": [
       "0.9998453927025356"
      ]
     },
     "execution_count": 118,
     "metadata": {},
     "output_type": "execute_result"
    }
   ],
   "source": [
    "roc_auc_score(y_val, predp, average=\"weighted\", multi_class = 'ovr')"
   ]
  },
  {
   "cell_type": "markdown",
   "id": "equivalent-detection",
   "metadata": {},
   "source": [
    "Finally, this model can be applied on the test data to do a prediction:"
   ]
  },
  {
   "cell_type": "code",
   "execution_count": 119,
   "id": "according-minute",
   "metadata": {},
   "outputs": [],
   "source": [
    "test = pd.read_csv('leafTest.csv')"
   ]
  },
  {
   "cell_type": "code",
   "execution_count": 120,
   "id": "uniform-launch",
   "metadata": {},
   "outputs": [
    {
     "data": {
      "text/html": [
       "<div>\n",
       "<style scoped>\n",
       "    .dataframe tbody tr th:only-of-type {\n",
       "        vertical-align: middle;\n",
       "    }\n",
       "\n",
       "    .dataframe tbody tr th {\n",
       "        vertical-align: top;\n",
       "    }\n",
       "\n",
       "    .dataframe thead th {\n",
       "        text-align: right;\n",
       "    }\n",
       "</style>\n",
       "<table border=\"1\" class=\"dataframe\">\n",
       "  <thead>\n",
       "    <tr style=\"text-align: right;\">\n",
       "      <th></th>\n",
       "      <th>id</th>\n",
       "      <th>margin1</th>\n",
       "      <th>margin2</th>\n",
       "      <th>margin3</th>\n",
       "      <th>margin4</th>\n",
       "      <th>margin5</th>\n",
       "      <th>margin6</th>\n",
       "      <th>margin7</th>\n",
       "      <th>margin8</th>\n",
       "      <th>margin9</th>\n",
       "      <th>...</th>\n",
       "      <th>texture55</th>\n",
       "      <th>texture56</th>\n",
       "      <th>texture57</th>\n",
       "      <th>texture58</th>\n",
       "      <th>texture59</th>\n",
       "      <th>texture60</th>\n",
       "      <th>texture61</th>\n",
       "      <th>texture62</th>\n",
       "      <th>texture63</th>\n",
       "      <th>texture64</th>\n",
       "    </tr>\n",
       "  </thead>\n",
       "  <tbody>\n",
       "    <tr>\n",
       "      <th>0</th>\n",
       "      <td>4</td>\n",
       "      <td>0.019531</td>\n",
       "      <td>0.009766</td>\n",
       "      <td>0.078125</td>\n",
       "      <td>0.011719</td>\n",
       "      <td>0.003906</td>\n",
       "      <td>0.015625</td>\n",
       "      <td>0.005859</td>\n",
       "      <td>0.000000</td>\n",
       "      <td>0.005859</td>\n",
       "      <td>...</td>\n",
       "      <td>0.006836</td>\n",
       "      <td>0.000000</td>\n",
       "      <td>0.015625</td>\n",
       "      <td>0.000977</td>\n",
       "      <td>0.015625</td>\n",
       "      <td>0.0</td>\n",
       "      <td>0.0</td>\n",
       "      <td>0.000000</td>\n",
       "      <td>0.003906</td>\n",
       "      <td>0.053711</td>\n",
       "    </tr>\n",
       "    <tr>\n",
       "      <th>1</th>\n",
       "      <td>7</td>\n",
       "      <td>0.007812</td>\n",
       "      <td>0.005859</td>\n",
       "      <td>0.064453</td>\n",
       "      <td>0.009766</td>\n",
       "      <td>0.003906</td>\n",
       "      <td>0.013672</td>\n",
       "      <td>0.007812</td>\n",
       "      <td>0.000000</td>\n",
       "      <td>0.033203</td>\n",
       "      <td>...</td>\n",
       "      <td>0.000000</td>\n",
       "      <td>0.000000</td>\n",
       "      <td>0.006836</td>\n",
       "      <td>0.001953</td>\n",
       "      <td>0.013672</td>\n",
       "      <td>0.0</td>\n",
       "      <td>0.0</td>\n",
       "      <td>0.000977</td>\n",
       "      <td>0.037109</td>\n",
       "      <td>0.044922</td>\n",
       "    </tr>\n",
       "    <tr>\n",
       "      <th>2</th>\n",
       "      <td>9</td>\n",
       "      <td>0.000000</td>\n",
       "      <td>0.000000</td>\n",
       "      <td>0.001953</td>\n",
       "      <td>0.021484</td>\n",
       "      <td>0.041016</td>\n",
       "      <td>0.000000</td>\n",
       "      <td>0.023438</td>\n",
       "      <td>0.000000</td>\n",
       "      <td>0.011719</td>\n",
       "      <td>...</td>\n",
       "      <td>0.128910</td>\n",
       "      <td>0.000000</td>\n",
       "      <td>0.000977</td>\n",
       "      <td>0.000000</td>\n",
       "      <td>0.000000</td>\n",
       "      <td>0.0</td>\n",
       "      <td>0.0</td>\n",
       "      <td>0.015625</td>\n",
       "      <td>0.000000</td>\n",
       "      <td>0.000000</td>\n",
       "    </tr>\n",
       "    <tr>\n",
       "      <th>3</th>\n",
       "      <td>12</td>\n",
       "      <td>0.000000</td>\n",
       "      <td>0.000000</td>\n",
       "      <td>0.009766</td>\n",
       "      <td>0.011719</td>\n",
       "      <td>0.017578</td>\n",
       "      <td>0.000000</td>\n",
       "      <td>0.003906</td>\n",
       "      <td>0.000000</td>\n",
       "      <td>0.003906</td>\n",
       "      <td>...</td>\n",
       "      <td>0.012695</td>\n",
       "      <td>0.015625</td>\n",
       "      <td>0.002930</td>\n",
       "      <td>0.036133</td>\n",
       "      <td>0.013672</td>\n",
       "      <td>0.0</td>\n",
       "      <td>0.0</td>\n",
       "      <td>0.089844</td>\n",
       "      <td>0.000000</td>\n",
       "      <td>0.008789</td>\n",
       "    </tr>\n",
       "    <tr>\n",
       "      <th>4</th>\n",
       "      <td>13</td>\n",
       "      <td>0.001953</td>\n",
       "      <td>0.000000</td>\n",
       "      <td>0.015625</td>\n",
       "      <td>0.009766</td>\n",
       "      <td>0.039062</td>\n",
       "      <td>0.000000</td>\n",
       "      <td>0.009766</td>\n",
       "      <td>0.000000</td>\n",
       "      <td>0.005859</td>\n",
       "      <td>...</td>\n",
       "      <td>0.000000</td>\n",
       "      <td>0.042969</td>\n",
       "      <td>0.016602</td>\n",
       "      <td>0.010742</td>\n",
       "      <td>0.041016</td>\n",
       "      <td>0.0</td>\n",
       "      <td>0.0</td>\n",
       "      <td>0.007812</td>\n",
       "      <td>0.009766</td>\n",
       "      <td>0.007812</td>\n",
       "    </tr>\n",
       "    <tr>\n",
       "      <th>...</th>\n",
       "      <td>...</td>\n",
       "      <td>...</td>\n",
       "      <td>...</td>\n",
       "      <td>...</td>\n",
       "      <td>...</td>\n",
       "      <td>...</td>\n",
       "      <td>...</td>\n",
       "      <td>...</td>\n",
       "      <td>...</td>\n",
       "      <td>...</td>\n",
       "      <td>...</td>\n",
       "      <td>...</td>\n",
       "      <td>...</td>\n",
       "      <td>...</td>\n",
       "      <td>...</td>\n",
       "      <td>...</td>\n",
       "      <td>...</td>\n",
       "      <td>...</td>\n",
       "      <td>...</td>\n",
       "      <td>...</td>\n",
       "      <td>...</td>\n",
       "    </tr>\n",
       "    <tr>\n",
       "      <th>589</th>\n",
       "      <td>1576</td>\n",
       "      <td>0.000000</td>\n",
       "      <td>0.000000</td>\n",
       "      <td>0.003906</td>\n",
       "      <td>0.015625</td>\n",
       "      <td>0.041016</td>\n",
       "      <td>0.000000</td>\n",
       "      <td>0.017578</td>\n",
       "      <td>0.000000</td>\n",
       "      <td>0.005859</td>\n",
       "      <td>...</td>\n",
       "      <td>0.098633</td>\n",
       "      <td>0.000000</td>\n",
       "      <td>0.004883</td>\n",
       "      <td>0.000000</td>\n",
       "      <td>0.003906</td>\n",
       "      <td>0.0</td>\n",
       "      <td>0.0</td>\n",
       "      <td>0.018555</td>\n",
       "      <td>0.000000</td>\n",
       "      <td>0.000977</td>\n",
       "    </tr>\n",
       "    <tr>\n",
       "      <th>590</th>\n",
       "      <td>1577</td>\n",
       "      <td>0.000000</td>\n",
       "      <td>0.003906</td>\n",
       "      <td>0.003906</td>\n",
       "      <td>0.005859</td>\n",
       "      <td>0.017578</td>\n",
       "      <td>0.000000</td>\n",
       "      <td>0.017578</td>\n",
       "      <td>0.005859</td>\n",
       "      <td>0.000000</td>\n",
       "      <td>...</td>\n",
       "      <td>0.012695</td>\n",
       "      <td>0.004883</td>\n",
       "      <td>0.004883</td>\n",
       "      <td>0.002930</td>\n",
       "      <td>0.009766</td>\n",
       "      <td>0.0</td>\n",
       "      <td>0.0</td>\n",
       "      <td>0.090820</td>\n",
       "      <td>0.000000</td>\n",
       "      <td>0.016602</td>\n",
       "    </tr>\n",
       "    <tr>\n",
       "      <th>591</th>\n",
       "      <td>1579</td>\n",
       "      <td>0.017578</td>\n",
       "      <td>0.029297</td>\n",
       "      <td>0.015625</td>\n",
       "      <td>0.013672</td>\n",
       "      <td>0.003906</td>\n",
       "      <td>0.015625</td>\n",
       "      <td>0.025391</td>\n",
       "      <td>0.000000</td>\n",
       "      <td>0.000000</td>\n",
       "      <td>...</td>\n",
       "      <td>0.073242</td>\n",
       "      <td>0.000000</td>\n",
       "      <td>0.028320</td>\n",
       "      <td>0.000000</td>\n",
       "      <td>0.001953</td>\n",
       "      <td>0.0</td>\n",
       "      <td>0.0</td>\n",
       "      <td>0.000000</td>\n",
       "      <td>0.042969</td>\n",
       "      <td>0.006836</td>\n",
       "    </tr>\n",
       "    <tr>\n",
       "      <th>592</th>\n",
       "      <td>1580</td>\n",
       "      <td>0.013672</td>\n",
       "      <td>0.009766</td>\n",
       "      <td>0.060547</td>\n",
       "      <td>0.025391</td>\n",
       "      <td>0.035156</td>\n",
       "      <td>0.025391</td>\n",
       "      <td>0.039062</td>\n",
       "      <td>0.000000</td>\n",
       "      <td>0.003906</td>\n",
       "      <td>...</td>\n",
       "      <td>0.003906</td>\n",
       "      <td>0.000000</td>\n",
       "      <td>0.000977</td>\n",
       "      <td>0.000000</td>\n",
       "      <td>0.011719</td>\n",
       "      <td>0.0</td>\n",
       "      <td>0.0</td>\n",
       "      <td>0.000000</td>\n",
       "      <td>0.011719</td>\n",
       "      <td>0.018555</td>\n",
       "    </tr>\n",
       "    <tr>\n",
       "      <th>593</th>\n",
       "      <td>1583</td>\n",
       "      <td>0.000000</td>\n",
       "      <td>0.117190</td>\n",
       "      <td>0.000000</td>\n",
       "      <td>0.019531</td>\n",
       "      <td>0.000000</td>\n",
       "      <td>0.136720</td>\n",
       "      <td>0.001953</td>\n",
       "      <td>0.005859</td>\n",
       "      <td>0.000000</td>\n",
       "      <td>...</td>\n",
       "      <td>0.107420</td>\n",
       "      <td>0.012695</td>\n",
       "      <td>0.016602</td>\n",
       "      <td>0.000977</td>\n",
       "      <td>0.004883</td>\n",
       "      <td>0.0</td>\n",
       "      <td>0.0</td>\n",
       "      <td>0.015625</td>\n",
       "      <td>0.000000</td>\n",
       "      <td>0.017578</td>\n",
       "    </tr>\n",
       "  </tbody>\n",
       "</table>\n",
       "<p>594 rows × 193 columns</p>\n",
       "</div>"
      ],
      "text/plain": [
       "       id   margin1   margin2   margin3   margin4   margin5   margin6  \\\n",
       "0       4  0.019531  0.009766  0.078125  0.011719  0.003906  0.015625   \n",
       "1       7  0.007812  0.005859  0.064453  0.009766  0.003906  0.013672   \n",
       "2       9  0.000000  0.000000  0.001953  0.021484  0.041016  0.000000   \n",
       "3      12  0.000000  0.000000  0.009766  0.011719  0.017578  0.000000   \n",
       "4      13  0.001953  0.000000  0.015625  0.009766  0.039062  0.000000   \n",
       "..    ...       ...       ...       ...       ...       ...       ...   \n",
       "589  1576  0.000000  0.000000  0.003906  0.015625  0.041016  0.000000   \n",
       "590  1577  0.000000  0.003906  0.003906  0.005859  0.017578  0.000000   \n",
       "591  1579  0.017578  0.029297  0.015625  0.013672  0.003906  0.015625   \n",
       "592  1580  0.013672  0.009766  0.060547  0.025391  0.035156  0.025391   \n",
       "593  1583  0.000000  0.117190  0.000000  0.019531  0.000000  0.136720   \n",
       "\n",
       "      margin7   margin8   margin9  ...  texture55  texture56  texture57  \\\n",
       "0    0.005859  0.000000  0.005859  ...   0.006836   0.000000   0.015625   \n",
       "1    0.007812  0.000000  0.033203  ...   0.000000   0.000000   0.006836   \n",
       "2    0.023438  0.000000  0.011719  ...   0.128910   0.000000   0.000977   \n",
       "3    0.003906  0.000000  0.003906  ...   0.012695   0.015625   0.002930   \n",
       "4    0.009766  0.000000  0.005859  ...   0.000000   0.042969   0.016602   \n",
       "..        ...       ...       ...  ...        ...        ...        ...   \n",
       "589  0.017578  0.000000  0.005859  ...   0.098633   0.000000   0.004883   \n",
       "590  0.017578  0.005859  0.000000  ...   0.012695   0.004883   0.004883   \n",
       "591  0.025391  0.000000  0.000000  ...   0.073242   0.000000   0.028320   \n",
       "592  0.039062  0.000000  0.003906  ...   0.003906   0.000000   0.000977   \n",
       "593  0.001953  0.005859  0.000000  ...   0.107420   0.012695   0.016602   \n",
       "\n",
       "     texture58  texture59  texture60  texture61  texture62  texture63  \\\n",
       "0     0.000977   0.015625        0.0        0.0   0.000000   0.003906   \n",
       "1     0.001953   0.013672        0.0        0.0   0.000977   0.037109   \n",
       "2     0.000000   0.000000        0.0        0.0   0.015625   0.000000   \n",
       "3     0.036133   0.013672        0.0        0.0   0.089844   0.000000   \n",
       "4     0.010742   0.041016        0.0        0.0   0.007812   0.009766   \n",
       "..         ...        ...        ...        ...        ...        ...   \n",
       "589   0.000000   0.003906        0.0        0.0   0.018555   0.000000   \n",
       "590   0.002930   0.009766        0.0        0.0   0.090820   0.000000   \n",
       "591   0.000000   0.001953        0.0        0.0   0.000000   0.042969   \n",
       "592   0.000000   0.011719        0.0        0.0   0.000000   0.011719   \n",
       "593   0.000977   0.004883        0.0        0.0   0.015625   0.000000   \n",
       "\n",
       "     texture64  \n",
       "0     0.053711  \n",
       "1     0.044922  \n",
       "2     0.000000  \n",
       "3     0.008789  \n",
       "4     0.007812  \n",
       "..         ...  \n",
       "589   0.000977  \n",
       "590   0.016602  \n",
       "591   0.006836  \n",
       "592   0.018555  \n",
       "593   0.017578  \n",
       "\n",
       "[594 rows x 193 columns]"
      ]
     },
     "execution_count": 120,
     "metadata": {},
     "output_type": "execute_result"
    }
   ],
   "source": [
    "test"
   ]
  },
  {
   "cell_type": "code",
   "execution_count": 121,
   "id": "younger-protocol",
   "metadata": {},
   "outputs": [],
   "source": [
    "test_o = pipeline.fit_transform(test)"
   ]
  },
  {
   "cell_type": "code",
   "execution_count": 122,
   "id": "european-newsletter",
   "metadata": {},
   "outputs": [
    {
     "data": {
      "text/plain": [
       "array([[ 0.48715837, -0.37588611,  1.62343217, ..., -0.87935481,\n",
       "        -0.2235066 ,  1.44289509],\n",
       "       [-0.36474851, -0.63020781,  1.35911767, ..., -0.77361353,\n",
       "         1.73392999,  1.24175535],\n",
       "       [-1.184983  , -1.06801254, -1.70415338, ...,  0.40650484,\n",
       "        -0.9351717 , -1.18422273],\n",
       "       ...,\n",
       "       [ 0.3701059 ,  0.55218709, -0.62293542, ..., -0.87935481,\n",
       "         1.80137204, -0.57781408],\n",
       "       [ 0.10839596, -0.37588611,  1.267856  , ..., -0.87935481,\n",
       "         0.71002946,  0.21140112],\n",
       "       [-1.184983  ,  1.7600532 , -1.88866358, ...,  0.40650484,\n",
       "        -0.9351717 ,  0.15564651]])"
      ]
     },
     "execution_count": 122,
     "metadata": {},
     "output_type": "execute_result"
    }
   ],
   "source": [
    "test_o"
   ]
  },
  {
   "cell_type": "code",
   "execution_count": 123,
   "id": "graduate-extraction",
   "metadata": {},
   "outputs": [
    {
     "data": {
      "text/plain": [
       "array([51, 50,  1, 19, 14,  3,  3, 28, 84,  8, 43, 74, 75, 10, 52, 46, 45,\n",
       "       73, 13, 71, 61, 68, 57, 77,  1, 70, 28, 15, 35, 70, 53, 74, 47, 50,\n",
       "        4, 36, 14, 55, 36, 93,  8, 32,  8,  9, 71, 70, 38, 23, 94, 18, 17,\n",
       "        5, 55, 94, 14, 86, 62, 33, 51, 98, 88, 56, 21, 59, 65, 11, 48,  5,\n",
       "       13,  4, 54, 57, 29,  7, 31, 98, 92, 84, 25, 10, 61, 43, 85, 24,  1,\n",
       "        2, 24, 83, 40, 22, 48, 90, 25, 21, 37, 56, 41, 95,  7, 89, 98, 77,\n",
       "        3, 12, 31, 84, 83, 96, 64, 72, 93, 93, 67, 30,  8, 88, 60, 87,  6,\n",
       "       57, 34, 90, 60, 17, 75, 27, 51, 31, 39, 23, 24,  2, 41, 61, 24, 97,\n",
       "       28, 28, 68, 81, 42, 51, 86, 62, 60, 52, 95, 64, 42, 96, 95, 20, 59,\n",
       "       35, 86,  1, 26, 38, 43, 75, 20, 60, 46, 79, 22, 79, 69, 87, 65, 97,\n",
       "       75, 21, 29, 21, 11, 10, 58, 94, 27, 22, 15, 45, 89, 54, 43,  5, 23,\n",
       "       94, 40, 49, 89, 72, 36, 11, 64, 95, 18, 91, 29, 64, 80,  6, 78, 45,\n",
       "       28,  9, 78, 90, 44, 89, 92, 13,  2, 59,  0, 96, 70, 32, 29, 78, 91,\n",
       "       69, 44, 38,  5, 60, 49, 58, 94, 67, 92, 88, 90, 79, 25, 37, 18,  0,\n",
       "       76, 27, 70, 71, 44, 70, 32, 90, 30, 82, 34, 30, 82, 96, 48, 65, 57,\n",
       "       64, 26, 53, 55, 73,  9,  3, 83, 26, 30, 63, 17, 22, 67, 63, 12, 78,\n",
       "       36, 14, 27, 25, 67, 38, 20, 54, 76, 69, 72, 97, 80, 44, 92, 69, 23,\n",
       "       21, 16, 51, 33, 77, 16, 11, 97,  1, 52, 39, 24, 52, 42, 17,  2, 73,\n",
       "       96, 83, 88,  9, 63, 50, 16, 38, 87, 95,  3, 35, 83, 60, 59, 58,  0,\n",
       "       86, 62, 38, 93, 68, 55, 46, 19, 46, 94, 18,  0, 33, 89, 40, 62, 48,\n",
       "       42,  6, 31, 91, 73, 81, 12, 85, 47,  6, 80,  2, 22, 35, 43,  6, 80,\n",
       "       78, 82,  5, 61, 37, 43, 33, 69, 56, 71, 45, 59, 42, 66, 86, 98, 83,\n",
       "       90, 64, 82, 13, 79, 56, 76, 49, 48, 20, 74, 15, 33, 49, 89, 44,  7,\n",
       "       35, 13, 55, 23, 34, 44, 32, 30, 36,  9, 72, 31, 61, 50, 82, 34, 28,\n",
       "       22, 92, 72, 11, 19,  4, 87, 51, 71, 39, 84, 32, 66, 36, 41, 31, 80,\n",
       "        4, 26, 68, 96, 20, 40, 34, 39, 56, 73, 76, 84,  7, 67, 37,  8, 95,\n",
       "       85, 62, 10, 65, 41,  2, 17, 86, 41, 52,  3, 49, 47, 76, 52, 16, 26,\n",
       "       88, 63, 45, 39, 66, 87, 75, 74,  7, 64, 65, 78, 82, 56, 21, 61, 88,\n",
       "       62, 91, 59, 12, 74, 15, 85,  8, 66, 57, 83, 82, 72, 58, 28, 17, 67,\n",
       "       66, 57, 66, 75, 35, 18,  9, 54, 91, 65, 19, 15, 10, 24, 71, 69, 48,\n",
       "       39, 98, 16, 19, 45, 74,  6, 69, 42, 34, 71, 47, 85, 28, 85, 47, 25,\n",
       "       27, 58, 68, 84, 97, 63, 97, 76, 81, 87, 77, 13,  0, 28, 41, 14, 12,\n",
       "       33, 69, 46,  4,  4, 47, 30, 19, 58, 13, 77, 98,  5, 49, 72, 53, 32,\n",
       "       59, 40, 68, 26, 92, 16, 81, 37, 14, 93, 80, 53, 46, 25, 50,  7, 37,\n",
       "       93,  0, 20, 54, 10, 91, 40, 81, 53, 18, 27,  1, 12, 54, 73, 15])"
      ]
     },
     "execution_count": 123,
     "metadata": {},
     "output_type": "execute_result"
    }
   ],
   "source": [
    "calibrated.predict(test_o)"
   ]
  },
  {
   "cell_type": "code",
   "execution_count": null,
   "id": "arranged-bacteria",
   "metadata": {},
   "outputs": [],
   "source": []
  }
 ],
 "metadata": {
  "kernelspec": {
   "display_name": "dataenv",
   "language": "python",
   "name": "dataenv"
  },
  "language_info": {
   "codemirror_mode": {
    "name": "ipython",
    "version": 3
   },
   "file_extension": ".py",
   "mimetype": "text/x-python",
   "name": "python",
   "nbconvert_exporter": "python",
   "pygments_lexer": "ipython3",
   "version": "3.9.2"
  }
 },
 "nbformat": 4,
 "nbformat_minor": 5
}
